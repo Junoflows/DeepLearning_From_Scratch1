{
  "nbformat": 4,
  "nbformat_minor": 0,
  "metadata": {
    "colab": {
      "provenance": [],
      "collapsed_sections": [
        "sRMztiFlZoYv"
      ],
      "include_colab_link": true
    },
    "kernelspec": {
      "name": "python3",
      "display_name": "Python 3"
    },
    "language_info": {
      "name": "python"
    }
  },
  "cells": [
    {
      "cell_type": "markdown",
      "metadata": {
        "id": "view-in-github",
        "colab_type": "text"
      },
      "source": [
        "<a href=\"https://colab.research.google.com/github/Junoflows/DeepLearning_From_Scratch1/blob/main/chapter_2_%ED%8D%BC%EC%85%89%ED%8A%B8%EB%A1%A0.ipynb\" target=\"_parent\"><img src=\"https://colab.research.google.com/assets/colab-badge.svg\" alt=\"Open In Colab\"/></a>"
      ]
    },
    {
      "cell_type": "markdown",
      "source": [
        "# Chapter 2 퍼셉트론"
      ],
      "metadata": {
        "id": "6d3BvyYRIc2_"
      }
    },
    {
      "cell_type": "markdown",
      "source": [
        "+ 1957년 프랑크 로젠블라트가 고안한 알고리즘.\n",
        "+ 신경망(딥러닝)의 기원이 되는 알고리즘."
      ],
      "metadata": {
        "id": "w1O43txsa1uJ"
      }
    },
    {
      "cell_type": "markdown",
      "source": [
        "## 2.1 퍼셉트론이란?"
      ],
      "metadata": {
        "id": "8AiMLRT1Ix2W"
      }
    },
    {
      "cell_type": "markdown",
      "source": [
        "+ 다수의 신호를 입력으로 받아 하나의 신호를 출력한다.\n",
        "+ 전류나 강물의 흐름같이 앞의 정보로부터 다음으로 정보를 전달한다.\n",
        "+ 신호가 흐를 때 1, 안 흐를 때 0\n"
      ],
      "metadata": {
        "id": "jAxlHSSfayGV"
      }
    },
    {
      "cell_type": "markdown",
      "source": [
        "__ex) 입력이 2개인 퍼셉트론__\n",
        "\n",
        "<img src=\"https://drive.google.com/uc?id=1603OBit9OgdNXL9qeddrUZJgJbdz49Mr\" heigt=200 width=200>|<img src=\"https://drive.google.com/uc?id=1mvTQ-Ybrlk2Dbs-_EAp1MyqxDC_K4mBK\" heigt=200 width=200>\n",
        "---| ---|"
      ],
      "metadata": {
        "id": "Z2iOioBBasFk"
      }
    },
    {
      "cell_type": "markdown",
      "source": [
        "$x_1$, $x_2$(입력신호) : 앞으로부터 받은 신호  \n",
        "$y$(출력신호) : 다음으로 보낼 신호  \n",
        "$w_1$, $w_2$(가중치) : 각 입력신호에 곱해지는 값  \n",
        "$\\theta$(임계값) : 출력값을 결정하는 값"
      ],
      "metadata": {
        "id": "eNHNtS6VRvaB"
      }
    },
    {
      "cell_type": "markdown",
      "source": [
        "__작동원리__  \n",
        "+ 그림의 원을 뉴런 또는 노드라고 부른다.\n",
        "+ 입력 신호가 뉴런에 보내질 때 각각 고유한 가중치가 곱해진다.\n",
        "+ 뉴런에서 보내온 신호의 총합이 정해진 한계를 넘어설 때 1을 출력한다. (뉴런을 활성화한다.)"
      ],
      "metadata": {
        "id": "-Vm7zTZIR0_s"
      }
    },
    {
      "cell_type": "markdown",
      "source": [
        "__NOTE__  \n",
        "퍼셉트론은 복수의 입력 신호 각각에 고유한 가중치를 부여하게 된다.  \n",
        "n개의 입력을 받는 게이트를 만들어낼 때,   \n",
        "다음과 같이 n개의 가중치와 임계값을 잘 정해야 한다.  \n",
        "$(w_1, w_2, ..., w_n, \\theta)$"
      ],
      "metadata": {
        "id": "XiO5nMBAR3LG"
      }
    },
    {
      "cell_type": "markdown",
      "source": [
        "## 2.2 단순한 논리 회로"
      ],
      "metadata": {
        "id": "ALkeXbLvUf59"
      }
    },
    {
      "cell_type": "markdown",
      "source": [
        "### 2.2.1 AND 게이트  "
      ],
      "metadata": {
        "id": "f6pP8EntUpUR"
      }
    },
    {
      "cell_type": "markdown",
      "source": [
        "+ 두 입력이 모두 1일 때에만 1을 출력, 그 외에는 0을 출력  \n",
        "\n",
        "| $x_1$ | $x_2$ | $y$ |  \n",
        "|--- | --- | --- |\n",
        "| $0$ | $0$ | $0$ |  \n",
        "| $1$ | $0$ | $0$ |  \n",
        "| $0$ | $1$ | $0$ |  \n",
        "| $1$ | $1$ | $1$ |"
      ],
      "metadata": {
        "id": "DfqT3Ts1a9Vf"
      }
    },
    {
      "cell_type": "markdown",
      "source": [
        "+ 이 그림을 퍼셉트론으로 표현하기 위해 ($w_1, w_2,  \\theta$) 의 값을 정해야 한다.\n",
        "+ ($w_1, w_2,  \\theta$) = (0.5, 0.5, 0.7) 이라고 하면 위 그림을 만족한다.\n",
        "+ 무한히 많은 매개변수의 조합이 있다."
      ],
      "metadata": {
        "id": "USJg9lsCVlyf"
      }
    },
    {
      "cell_type": "markdown",
      "source": [
        "### 2.2.2 NAND 게이트"
      ],
      "metadata": {
        "id": "ioUuf1NbXR0L"
      }
    },
    {
      "cell_type": "markdown",
      "source": [
        "+ 두 입력이 모두 1일 때에만 0을 출력, 그 외에는 1을 출력(Not AND)  \n",
        "\n",
        "| $x_1$ | $x_2$ | $y$ |  \n",
        "|--- | --- | --- |\n",
        "| $0$ | $0$ | $1$ |  \n",
        "| $1$ | $0$ | $1$ |  \n",
        "| $0$ | $1$ | $1$ |  \n",
        "| $1$ | $1$ | $0$ |"
      ],
      "metadata": {
        "id": "STbyFlKwbAPb"
      }
    },
    {
      "cell_type": "markdown",
      "source": [
        "+ ($w_1, w_2,  \\theta$) = (-0.5, -0.5, -0.7) 이라고 하면 위 그림을 만족한다.\n",
        "+ 무한히 많은 매개변수의 조합이 있다."
      ],
      "metadata": {
        "id": "BLw3N4FkXcuh"
      }
    },
    {
      "cell_type": "markdown",
      "source": [
        "### 2.2.3 OR 게이트"
      ],
      "metadata": {
        "id": "55I9uC6jX3iT"
      }
    },
    {
      "cell_type": "markdown",
      "source": [
        "+ 입력신호 중 하나 이상 1이면 1을 출력, 그 외에는 0을 출력\n",
        "\n",
        "| $x_1$ | $x_2$ | $y$ |  \n",
        "|--- | --- | --- |\n",
        "| $0$ | $0$ | $0$ |  \n",
        "| $1$ | $0$ | $1$ |  \n",
        "| $0$ | $1$ | $1$ |  \n",
        "| $1$ | $1$ | $1$ |  "
      ],
      "metadata": {
        "id": "uv8vbTdObDHH"
      }
    },
    {
      "cell_type": "markdown",
      "source": [
        "+ ($w_1, w_2,  \\theta$) = (1, 1, 0.5) 이라고 하면 위 그림을 만족한다.\n",
        "+ 무한히 많은 매개변수의 조합이 있다."
      ],
      "metadata": {
        "id": "7tpHfxbWYWRv"
      }
    },
    {
      "cell_type": "markdown",
      "source": [
        "__NOTE__  \n",
        "퍼셉트론의 구조는 AND, NAND, OR 게이트 모두에서 똑같다.  \n",
        "즉 매개변수(가중치와 임계값) 값만 조정하면 3가지 게이트를 모두 사용할 수 있다."
      ],
      "metadata": {
        "id": "PT40V_aFZZ2z"
      }
    },
    {
      "cell_type": "markdown",
      "source": [
        "\n",
        "__NOTE__  \n",
        "'기계학습 문제'에서는 매개변수 값을 인간이 정하지 않고 컴퓨터가 자동으로 정하게 한다.<br/>\n",
        "__학습__이란 적절한 매개변수 값을 정하는 작업으로 사람은 퍼셉트론의 구조를 고민하고 컴퓨터에 학습할 데이터를 준다"
      ],
      "metadata": {
        "id": "zPxiRHmSYRTg"
      }
    },
    {
      "cell_type": "markdown",
      "source": [
        "## 2.3 퍼셉트론 구현하기"
      ],
      "metadata": {
        "id": "sRMztiFlZoYv"
      }
    },
    {
      "cell_type": "markdown",
      "source": [
        "+ 논리 회로를 파이썬으로 구현하자"
      ],
      "metadata": {
        "id": "KAzfAa3_ilXX"
      }
    },
    {
      "cell_type": "markdown",
      "source": [
        "### AND 게이트"
      ],
      "metadata": {
        "id": "dM4WHImyc9La"
      }
    },
    {
      "cell_type": "code",
      "source": [
        "def AND(x1, x2):\n",
        "    w1, w2, theta = 0.5, 0.5, 0.7\n",
        "    tmp = x1*w1 + x2*w2\n",
        "    if tmp <= theta:\n",
        "      return 0\n",
        "    elif tmp > theta :\n",
        "      return"
      ],
      "metadata": {
        "id": "0PVy00B_jGls"
      },
      "execution_count": null,
      "outputs": []
    },
    {
      "cell_type": "markdown",
      "source": [
        "+ $w_1, w_2, \\theta $는 함수 안에서 초기화하고, 가중치를 곱한 입력의 총합이 임계값을 넘으면 1, 그 외에는 0을 반환한다."
      ],
      "metadata": {
        "id": "ykO4jnE7joYl"
      }
    },
    {
      "cell_type": "code",
      "source": [
        "print(AND(0,0))\n",
        "print(AND(1,0))\n",
        "print(AND(0,1))\n",
        "print(AND(1,1))"
      ],
      "metadata": {
        "colab": {
          "base_uri": "https://localhost:8080/"
        },
        "id": "VVyUW5lwkFl2",
        "outputId": "76b33bd0-981a-4055-ec86-0656e46b6259"
      },
      "execution_count": null,
      "outputs": [
        {
          "output_type": "stream",
          "name": "stdout",
          "text": [
            "0\n",
            "0\n",
            "0\n",
            "None\n"
          ]
        }
      ]
    },
    {
      "cell_type": "markdown",
      "source": [
        "* $\\theta$를 $-b$(편향, bias)로 치환하여 구성하면 아래 식처럼 된다.  \n",
        "$y =\n",
        "\\begin{cases}\n",
        "0 \\;(b + w_1x_1 + w_2x_2 \\leq 0)\\\\\n",
        "1 \\;(b + w_1x_1 + w_2x_2 > 0)\n",
        "\\end{cases}$"
      ],
      "metadata": {
        "id": "OmJw1H_Sc63g"
      }
    },
    {
      "cell_type": "markdown",
      "source": [
        "+ 위 식을 해석해보면, 입력신호에 가중치를 곱한 값과 편향을 합하여  \n",
        "그 값이 0을 넘으면 1, 그렇지 않으면 0을 출력한다.\n",
        "+ 위 식을 구현해보자"
      ],
      "metadata": {
        "id": "iOLtXK47kQej"
      }
    },
    {
      "cell_type": "code",
      "source": [
        "import numpy as np\n",
        "x = np.array([0,1])\n",
        "w = np.array([0.5,0.5])\n",
        "b = -0.7\n",
        "print(w*x)\n",
        "print(np.sum(w*x))\n",
        "print(np.sum(w*x)+b) # 부동소수점 수에 의한 연산 오차"
      ],
      "metadata": {
        "colab": {
          "base_uri": "https://localhost:8080/"
        },
        "id": "dFPIR8sJnVlp",
        "outputId": "27ca5fdb-8113-46c0-ddce-918d55461aba"
      },
      "execution_count": null,
      "outputs": [
        {
          "output_type": "stream",
          "name": "stdout",
          "text": [
            "[0.  0.5]\n",
            "0.5\n",
            "-0.19999999999999996\n"
          ]
        }
      ]
    },
    {
      "cell_type": "markdown",
      "source": [
        "+ 편향을 도입한 파이썬 코드이다."
      ],
      "metadata": {
        "id": "nsUhA43xoJ9Y"
      }
    },
    {
      "cell_type": "code",
      "execution_count": null,
      "metadata": {
        "id": "Q_vlN-XAIaVX"
      },
      "outputs": [],
      "source": [
        "def AND(x1, x2):\n",
        "    x = np.array([x1, x2])\n",
        "    w = np.array([0.5, 0.5])\n",
        "    b = -0.7\n",
        "    tmp = np.sum(w*x) + b\n",
        "    if tmp <= 0:\n",
        "        return 0\n",
        "    else:\n",
        "        return 1"
      ]
    },
    {
      "cell_type": "markdown",
      "source": [
        "__NOTE__  \n",
        "가중치 $w_1, w_2$는 각 입력 신호가 결과에 주는 영향력을 조절하는 매개변수이고  \n",
        "편향은 뉴런이 얼마나 쉽게 활성화하느냐를 조정하는 매개변수이다.  \n",
        "편향과 가중치는 기능이 다르다는 사실을 주의해야한다.\n"
      ],
      "metadata": {
        "id": "UBi1cdUfoUnx"
      }
    },
    {
      "cell_type": "markdown",
      "source": [
        "### NAND 게이트와 OR 게이트"
      ],
      "metadata": {
        "id": "gGoaAw_9RAIn"
      }
    },
    {
      "cell_type": "markdown",
      "source": [
        "+ NAND 게이트"
      ],
      "metadata": {
        "id": "FERN16oHqNnc"
      }
    },
    {
      "cell_type": "code",
      "source": [
        "def NAND(x1, x2):\n",
        "    x = np.array([x1, x2])\n",
        "    w = np.array([-0.5, -0.5])\n",
        "    b = 0.7\n",
        "    tmp = np.sum(w*x) + b\n",
        "    if tmp <= 0:\n",
        "        return 0\n",
        "    else:\n",
        "        return 1"
      ],
      "metadata": {
        "id": "yasJ-OvmbHhA"
      },
      "execution_count": null,
      "outputs": []
    },
    {
      "cell_type": "markdown",
      "source": [
        "+ OR 게이트"
      ],
      "metadata": {
        "id": "eDdTBitTVEK5"
      }
    },
    {
      "cell_type": "code",
      "source": [
        "import numpy as np\n",
        "def OR(x1, x2):\n",
        "    x = np.array([x1, x2])\n",
        "    w = np.array([1, 1])\n",
        "    b = -0.5\n",
        "    tmp = np.sum(w*x) + b\n",
        "    if tmp <= 0:\n",
        "        return 0\n",
        "    else:\n",
        "        return 1"
      ],
      "metadata": {
        "id": "Uv8gSTjzVIYo"
      },
      "execution_count": null,
      "outputs": []
    },
    {
      "cell_type": "markdown",
      "source": [
        "## 2.4 퍼셉트론의 한계"
      ],
      "metadata": {
        "id": "iwbOetN2r6MF"
      }
    },
    {
      "cell_type": "markdown",
      "source": [
        "### 2.4.1 XOR 게이트(베타적 논리합)"
      ],
      "metadata": {
        "id": "2fDZJGNUsDEa"
      }
    },
    {
      "cell_type": "markdown",
      "source": [
        "+ 두 입력 중 한쪽만 1일 때에만 1을 출력, 그 외에는 0을 출력\n",
        "+ XOR 게이트를 퍼셉트론으로 구현하기 위한 매개변수 값을 생각해보자.\n",
        "\n",
        "| $x_1$ | $x_2$ | $y$ |  \n",
        "|--- | --- | --- |\n",
        "| $0$ | $0$ | $0$ |  \n",
        "| $1$ | $0$ | $1$ |  \n",
        "| $0$ | $1$ | $1$ |  \n",
        "| $1$ | $1$ | $0$ |"
      ],
      "metadata": {
        "id": "0qy2aeRwsh80"
      }
    },
    {
      "cell_type": "markdown",
      "source": [
        "$y =\n",
        "\\begin{cases}\n",
        "0 \\;(b + w_1x_1 + w_2x_2 \\leq 0)\\\\\n",
        "1 \\;(b + w_1x_1 + w_2x_2 > 0)\n",
        "\\end{cases}$"
      ],
      "metadata": {
        "id": "J2jRj9_esdpd"
      }
    },
    {
      "cell_type": "markdown",
      "source": [
        "<img src='http://drive.google.com/uc?export=view&id=1RsfxQ5Hkv5Jk8fIKP5lKpTiu-QF2HWm9' height = 300/>"
      ],
      "metadata": {
        "id": "4f0RU_WJuKj8"
      }
    },
    {
      "cell_type": "markdown",
      "source": [
        "+ 직선 하나로 ○, △을 나누는 것은 불가능하다.\n",
        "+ 하지만 '직선' 이라는 제약을 없앤다면 가능하다."
      ],
      "metadata": {
        "id": "CSQbyvOLx-nG"
      }
    },
    {
      "cell_type": "markdown",
      "source": [
        "<img src='http://drive.google.com/uc?export=view&id=1UU2dgJAB6Aqmnl8mLb-98UEvHqHZV-AT' height = 300 />"
      ],
      "metadata": {
        "id": "lVBYS8X-x98u"
      }
    },
    {
      "cell_type": "markdown",
      "source": [
        "+ 일반적인 퍼셉트론은 직선 하나로 나눈 영역만 표현할 수 있다는 한계가 있다.\n",
        "+ 곡선같은 비선형 영역은 어떻게 표현할 수 있을지 생각해보자."
      ],
      "metadata": {
        "id": "al86iTiWyvIv"
      }
    },
    {
      "cell_type": "markdown",
      "source": [
        "## 2.5 다층퍼셉트론\n"
      ],
      "metadata": {
        "id": "UcvbyF-g2y5Z"
      }
    },
    {
      "cell_type": "markdown",
      "source": [
        "### 2.5.1 기존 게이트 조합하기"
      ],
      "metadata": {
        "id": "Ydzd2WsZzh_d"
      }
    },
    {
      "cell_type": "markdown",
      "source": [
        "+ 어떻게 기존 게이트를 조합해야 XOR 게이트를 만들 수 있을지 생각해보자.\n",
        "\n",
        "<img src=\"https://drive.google.com/uc?id=1PpNE-rRkJRwtYTXeBSmMXuiho2uTwWjd\n",
        "\" height=80>"
      ],
      "metadata": {
        "id": "Wky-NkUi0EaW"
      }
    },
    {
      "cell_type": "markdown",
      "source": [
        "<img src=\"https://drive.google.com/uc?id=1Ya11NC1j3ZeGI59kPotn1WK5hsf5TRUh\n",
        "\" width=300>\n",
        "\n",
        "* 이렇게 기존 게이트를 2층으로 조합한다면 XOR 게이트를 구현할 수 있다. 진리표를 살펴보자."
      ],
      "metadata": {
        "id": "IJt8NtNk0ysZ"
      }
    },
    {
      "cell_type": "markdown",
      "source": [
        "<img src=\"https://drive.google.com/uc?id=1hFQLCGOGJdVLv6eOwME0W5i34alfpxUW\" width=300>"
      ],
      "metadata": {
        "id": "hvMiJ-o71PSe"
      }
    },
    {
      "cell_type": "markdown",
      "source": [
        "### 2.5.2 XOR 게이트 구현하기"
      ],
      "metadata": {
        "id": "sHNrCDEj1V96"
      }
    },
    {
      "cell_type": "markdown",
      "source": [
        "+ 앞서 정의한 AND, NAND, OR 함수를 사용하여 구현한다."
      ],
      "metadata": {
        "id": "VtFvSkCc1fKV"
      }
    },
    {
      "cell_type": "code",
      "source": [
        "def XOR(x1, x2):\n",
        "    s1 = NAND(x1, x2)\n",
        "    s2 = OR(x1, x2)\n",
        "    y = AND(s1, s2)\n",
        "    return y"
      ],
      "metadata": {
        "id": "ZcIhOnspVjET"
      },
      "execution_count": null,
      "outputs": []
    },
    {
      "cell_type": "markdown",
      "source": [
        "+ 잘 작동하는지 확인한다."
      ],
      "metadata": {
        "id": "uTYixMmS3Aeb"
      }
    },
    {
      "cell_type": "code",
      "source": [
        "print(XOR(0, 0))\n",
        "print(XOR(1, 0))\n",
        "print(XOR(0, 1))\n",
        "print(XOR(1, 1))"
      ],
      "metadata": {
        "colab": {
          "base_uri": "https://localhost:8080/"
        },
        "id": "fAIT_tGA6mbe",
        "outputId": "2944488d-f5d8-45d2-b8bf-72c47b6cb842"
      },
      "execution_count": null,
      "outputs": [
        {
          "output_type": "stream",
          "name": "stdout",
          "text": [
            "0\n",
            "1\n",
            "1\n",
            "0\n"
          ]
        }
      ]
    },
    {
      "cell_type": "markdown",
      "source": [
        "+ XOR은 아래의 구조의 네트워크이다.\n",
        "+ AND, NAND, OR은 단층 퍼셉트론인 데 반해, XOR은 2층 퍼셉트론이다.\n",
        "+ 이처럼 층이 여러 개인 퍼셉트론을 다층 퍼셉트론이라고 한다."
      ],
      "metadata": {
        "id": "KeGkbll63GOS"
      }
    },
    {
      "cell_type": "markdown",
      "source": [
        "<img src='http://drive.google.com/uc?export=view&id=1bF4T20n68KovGD-AhF7Ew0NN6luJGJHU' height = 200/><br>"
      ],
      "metadata": {
        "id": "e3ExF8Ec228k"
      }
    },
    {
      "cell_type": "markdown",
      "source": [
        "__작동 과정__  \n",
        "1. 0층의 두 뉴런이 입력 신호를 받아 1층의 뉴런으로 신호를 보낸다.\n",
        "2. 1층의 뉴런이 2층의 뉴런으로 신호를 보내고, 2층의 뉴런은 y를 출력한다."
      ],
      "metadata": {
        "id": "n5HThC604KX3"
      }
    },
    {
      "cell_type": "markdown",
      "source": [
        "__NOTE__  \n",
        "가중치를 갖는 층이 2개이기 때문에 3층이 아닌 2층 퍼셉트론이라고 한다."
      ],
      "metadata": {
        "id": "BIlb81Ip3qpb"
      }
    },
    {
      "cell_type": "markdown",
      "source": [
        "### 2.5.3 다층퍼셉트론의 의의\n",
        "\n",
        "+ 기존의 단층퍼셉트론으로 표현하지 못했던 비선형함수를 구성할 수 있다.\n",
        "+ 복잡한 회로(가산기, 비가산기, 전가산기, 패리티 검사회로)를 표현할 수 있다.\n",
        "+ (이론상)2층 퍼셉트론으로 컴퓨터를 만들 수 있다.\n"
      ],
      "metadata": {
        "id": "nGbAdScd7IET"
      }
    },
    {
      "cell_type": "markdown",
      "source": [
        "## 2.6 요약"
      ],
      "metadata": {
        "id": "gB6ZnIog4-Qw"
      }
    },
    {
      "cell_type": "markdown",
      "source": [
        "+ 퍼셉트론은 입출력을 갖춘 알고리즘이다. 입력을 주면 정해진 규칙에 따른 값을 출력한다.\n",
        "+ 퍼셉트론에서는 '가중치'와 '편향'을 매개변수로 설정한다.\n",
        "+ 퍼셉트론으로 AND, NAND, OR 등의 논리 회로를 표현할 수 있다.\n",
        "+ XOR 게이트는 단층 퍼셉트론으로는 표현할 수 없다.\n",
        "+ 2층 퍼셉트론을 이용하면 XOR 게이트를 표현할 수 있다.\n",
        "+ 단층 퍼셉트론은 직선형 영약만 표현할 수 있고, 다층 퍼셉트론은 비선형 영역도 표현할 수 있다."
      ],
      "metadata": {
        "id": "EMrLSAoj5Gzj"
      }
    }
  ]
}