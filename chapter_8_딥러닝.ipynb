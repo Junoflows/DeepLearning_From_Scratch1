{
  "nbformat": 4,
  "nbformat_minor": 0,
  "metadata": {
    "colab": {
      "provenance": [],
      "authorship_tag": "ABX9TyOx3lBZh3wsXlQNq6PjfMIG",
      "include_colab_link": true
    },
    "kernelspec": {
      "name": "python3",
      "display_name": "Python 3"
    },
    "language_info": {
      "name": "python"
    }
  },
  "cells": [
    {
      "cell_type": "markdown",
      "metadata": {
        "id": "view-in-github",
        "colab_type": "text"
      },
      "source": [
        "<a href=\"https://colab.research.google.com/github/Junoflows/DeepLearning_From_Scratch1/blob/main/chapter_8_%EB%94%A5%EB%9F%AC%EB%8B%9D.ipynb\" target=\"_parent\"><img src=\"https://colab.research.google.com/assets/colab-badge.svg\" alt=\"Open In Colab\"/></a>"
      ]
    },
    {
      "cell_type": "markdown",
      "source": [
        "# Chapter 8 딥러닝"
      ],
      "metadata": {
        "id": "7DBXEngJqXLV"
      }
    },
    {
      "cell_type": "markdown",
      "source": [
        "+ 딥러닝은 층을 깊게 한 심층 신경망이다.\n",
        "+ 심층 신경망은 지금까지의 신경망 뒷부분에 층을 추가하면 만들 수 있지만 큰 문제점도 있다.\n",
        "+ 딥러닝의 특징과 과제, 가능성을 알아보자."
      ],
      "metadata": {
        "id": "mU0FhcQIqcGa"
      }
    },
    {
      "cell_type": "markdown",
      "source": [
        "## 8.1 더 깊게"
      ],
      "metadata": {
        "id": "BmtgTK1nqqwr"
      }
    },
    {
      "cell_type": "markdown",
      "source": [
        "+ 그동안 배운 기술을 집약하고 심층 신경망을 만들어 MNIST 데이터셋의 손글씨 숫자 인식을 도전해보자."
      ],
      "metadata": {
        "id": "7jNfbBEQqsLD"
      }
    },
    {
      "cell_type": "markdown",
      "source": [
        "### 8.1.1 더 깊은 신경망으로"
      ],
      "metadata": {
        "id": "44FPOZbIq5_U"
      }
    },
    {
      "cell_type": "markdown",
      "source": [
        "+ 아래 그림과 같이 구성된 CNN을 만들고자 한다."
      ],
      "metadata": {
        "id": "PCWcqSjjq-Ni"
      }
    },
    {
      "cell_type": "markdown",
      "source": [
        "<img src='http://drive.google.com/uc?export=view&id=1C-Ukbv5yfNY1gZpZqj6VwfqhG-IPKfez' width = 550 /><br>"
      ],
      "metadata": {
        "id": "hDgVlD4LrCxk"
      }
    },
    {
      "cell_type": "markdown",
      "source": [
        "+ 지금까지 구현한 신경망보다 층이 깊은데, 여기서 사용하는 합성곱 계층은 모두 3×3 크기의 작은 필터로, 층이 깊어지면서 채널 수가 더 늘어나는 것이 특징이다.\n",
        "+ 합성곱 게층의 채널 수는 앞 계층부터 순서대로 16, 16, 32, 32, 64, 64로 늘어간다.\n",
        "+ 그림과 같이 풀링 계층을 추가하여 중간 데이터의 공간 코기를 점차 줄여가고  \n",
        "마지막 단의 완전연결 계층에서는 드롭아웃 계층을 사용한다."
      ],
      "metadata": {
        "id": "-Ydcjrdjlcoe"
      }
    },
    {
      "cell_type": "markdown",
      "source": [
        "+ 가중치 초깃값으로 He 초깃값을 사용하고, 가중치 매개변수 갱신에는 Adam을 이용한다. 이 신경망의 특징은 다음과 같다."
      ],
      "metadata": {
        "id": "XprgcQuIluGl"
      }
    },
    {
      "cell_type": "markdown",
      "source": [
        "> + 3×3의 작은 필터를 사용한 합성곱 계층  \n",
        "+ 활성화 함수는 ReLU  \n",
        "+ 완전연결 계층 뒤에 드롭아웃 계층 사용  \n",
        "+ Adam을 사용해 최적화  \n",
        "+ 가중치 초깃값은 'He의 초깃값'\n",
        "\n"
      ],
      "metadata": {
        "id": "YwfNb8A6mayT"
      }
    },
    {
      "cell_type": "markdown",
      "source": [
        "+ 이 신경망에는 그동안의 신경망 기술들이 많이 들어있다.\n",
        "+ 이 신경망을 학습해볼건데, 결과부터 말하면 이 신경망의 정확도는 99.38%로 매우 훌륭한 성능을 자랑한다.  \n",
        "(최종 정확도는 약간의 차이가 있을 수 있지만 대체로 99%를 넘는다)"
      ],
      "metadata": {
        "id": "U7rzlEHymu-E"
      }
    },
    {
      "cell_type": "markdown",
      "source": [
        "__NOTE__ <br/>\n",
        "이 신경망을 구현한 코드는 ch08/deep_convnet.py, 훈련용 코드는 ch08/train_deepnet.py에 준비되어 있다. 하지만 학습시키는데 시간이 오래 걸리므로 학습된 가중치 매개변수를 ch08/deep_conv_net_params.pkl 파일에 준비해놨다."
      ],
      "metadata": {
        "id": "Gp9mp6ltnGWD"
      }
    },
    {
      "cell_type": "markdown",
      "source": [
        "+ 이 신경망이 잘못 인식할 확률은 거의 0.62%이다. 실제로 어떤 이미지를 인식하지 못하였는지 살펴보자."
      ],
      "metadata": {
        "id": "NXwbylWWnlx7"
      }
    },
    {
      "cell_type": "markdown",
      "source": [
        "<img src='http://drive.google.com/uc?export=view&id=1MADR0A66r4YadPj46K-cxonOZT0x1wbO' width = 550/><br>"
      ],
      "metadata": {
        "id": "__jwjPyIn0e0"
      }
    },
    {
      "cell_type": "markdown",
      "source": [
        "+ 위 사진들은 인간도 판단하기 어려운 이미지이다.\n",
        "+ 실제로 인간도 똑같이 인식 오류를 저지르는 이미지가 여럿 포함되어 있다.\n",
        "+ 이처럼 이 심층 CNN은 정확도가 높고, 잘못 인식한 이미지들도 인간과 비슷한 인식 오류를 저지르고 있는 것으로 보아,  \n",
        "심층 CNN의 잠재력이 크다는 걸 느낄 수 있을 것이다."
      ],
      "metadata": {
        "id": "ORoHP7Van3b2"
      }
    },
    {
      "cell_type": "markdown",
      "source": [
        "### 8.1.2 정확도를 더 높이려면"
      ],
      "metadata": {
        "id": "NCb8WabkoK0l"
      }
    },
    {
      "cell_type": "markdown",
      "source": [
        "+ <What is the class of this image?>  \n",
        "웹 사이트는 다양한 데이터셋을 대상으로 그동안 논문 등에서 발표한 기법들의 정확도 순위를 정리해두었다."
      ],
      "metadata": {
        "id": "yZZPAa_7oQYS"
      }
    },
    {
      "cell_type": "markdown",
      "source": [
        "<img src='http://drive.google.com/uc?export=view&id=1GY_C5or9KXDf5nSi7NiF4y5BAaQuyuBc' width = 550/><br>"
      ],
      "metadata": {
        "id": "thk36x5soZzD"
      }
    },
    {
      "cell_type": "markdown",
      "source": [
        "+ 위 순위를 보면 'Neural Networks', 'Deep', 'Convolutional'이라는 키워드가 돋보이는데, 상위권 대부분은 CNN을 기초로 한 기법들이 차지했다.\n",
        "+ 2016년 10월 MNIST 데이터셋에 대한 정확도 1위는 99.79%이며, 이 기법도 CNN을 기초로 했다.\n",
        "+ 다만 이 목록의 기법들이 사용하는 CNN들은 합성곱 계층 2개, 완전연결 계층 2개 정도인 신경망으로 그다지 깊지 않다."
      ],
      "metadata": {
        "id": "uU1OnmK2omG-"
      }
    },
    {
      "cell_type": "markdown",
      "source": [
        "__NOTE__ <br/>\n",
        "MNIST 데이터셋에 대해서는 층을 아주 깊게 하지 않고도 최고 수준의 결과가 나온다. 이는 손글씨 숫자라는 문제가 비교적 단순해서 신경망의 표현력을 극한까지 높일 필요가 없기 때문이다. 즉 층을 깊게 해도 해택이 적은 것인데, 대규모 일반 사물 인식에서는 문제가 훨씬 복잡해지므로 층을 깊게 하면 정확도를 크게 끌어올릴 수 있다."
      ],
      "metadata": {
        "id": "4cs0gk7CpDpt"
      }
    },
    {
      "cell_type": "markdown",
      "source": [
        "+ 상위 기법들을 참고하면 앙상블 학습, 학습률 감소, 데이터 확장 등 정확도를 더 높일 수 있는 기술들을 발견할 수 있다.\n",
        "+ 특히 데이터 확장은 쉬우면서도 정확도 개선에 아주 효과적이다.\n",
        "+ __데이터 확장__은 입력 이미지를 알고리즘을 동원해 인위적으로 확정한다.\n",
        "+ 아래와 같이 입력 이미지를 회적하거나 세로로 이동하는 등 미세한 변화를 주어 이미지의 개수를 늘리는 것으로, 데이터가 몇 개 없을 때 효과적인 수단이다."
      ],
      "metadata": {
        "id": "2H-UPzlspY3h"
      }
    },
    {
      "cell_type": "markdown",
      "source": [
        "<img src='http://drive.google.com/uc?export=view&id=1B4dswlL1MvNbJmfRVzByPZDb8YCgn4UZ' width =550/><br>"
      ],
      "metadata": {
        "id": "vxQ1YEGrp4CR"
      }
    },
    {
      "cell_type": "markdown",
      "source": [
        "+ 데이터 확장은 위와 같은 변형 이외에도 다양한 방법으로 이미지를 확장할 수 있는데  \n",
        "이미지 일부를 잘라내는 __crop__, 좌우를 뒤집는 __flip__ 등이 있다.\n",
        "+ 일반적인 이미지에는 밝기 등의 외형 변화나 확대, 축소 등의 스케일 변화도 효과적이다.\n",
        "+ 이런 데이터 확정을 이용해 훈련 이미지의 개수를 늘려서 딥러닝의 인식 수준을 개선한다."
      ],
      "metadata": {
        "id": "C3XfLeKvBiqG"
      }
    },
    {
      "cell_type": "markdown",
      "source": [
        "### 8.1.3 깊게 하는 이유"
      ],
      "metadata": {
        "id": "bLykx6htBxLK"
      }
    },
    {
      "cell_type": "markdown",
      "source": [
        "+ __층을 깊게 하는 것의 중요성__에 대한 이론적 근거는 많이 부족하지만 지금까지의 연구와 실험으로 설명할 수 있는 것이 몇 가지 있다.\n",
        "+ ILSVRC로 대표되는 대규모 이미지 인식 대회 결과에서 층을 깊게 하는 것의 중요성을 알 수 있다.\n",
        "+ 최근 상위를 차지한 기법 대부분이 딥러닝 기반이며, 신경망을 더 깊게 만드는 방향으로 가고있다.\n",
        "+ 즉 층의 깊이에 비례해 정확도가 좋아진다는 것이다."
      ],
      "metadata": {
        "id": "2ocRBOKcCBJ1"
      }
    },
    {
      "cell_type": "markdown",
      "source": [
        "+ 층을 깊게 할 때의 이점으로는 신경망의 매개변수가 줄어든다는 것이다. 아래 예를 살펴보자."
      ],
      "metadata": {
        "id": "OsZR2IhrCv0L"
      }
    },
    {
      "cell_type": "markdown",
      "source": [
        "<img src='http://drive.google.com/uc?export=view&id=1b9iG5iHqn_zeJ62erOq5_8nFXaECUKfs' width = 550/><br>"
      ],
      "metadata": {
        "id": "4sl2ksLqDGR-"
      }
    },
    {
      "cell_type": "markdown",
      "source": [
        "+ 위 그림은 5×5 필터로 구성된 합성곱 계층이다.\n",
        "+ 주목할 점은 출력 데이터의 각 노드가 입력 데이터의 어느 영역에서 계산되었느냐 이다.\n",
        "+ 여기서는 출력 노드는 입력 데이터의 5×5 크기 영역에서 계산된다."
      ],
      "metadata": {
        "id": "JSoNMliEDMFW"
      }
    },
    {
      "cell_type": "markdown",
      "source": [
        "+ 이어서 3×3의 합성곱 연산을 2회 반복하는 경우를 살펴보자."
      ],
      "metadata": {
        "id": "1qeA67QtDZ_x"
      }
    },
    {
      "cell_type": "markdown",
      "source": [
        "<img src='http://drive.google.com/uc?export=view&id=17ALZhymMOrsYQerQBHVi0L8qt-vmrkHA' width =550/><br>"
      ],
      "metadata": {
        "id": "T7P6--bvDgFl"
      }
    },
    {
      "cell_type": "markdown",
      "source": [
        "+ 이 경우 출력 노드 하나는 중간 데이터의 3×3 영역에서 계산된다.\n",
        "+ 중간 데이터의 3×3 영역은 입력 데이터의 5×5 영역에서 계산된다.\n",
        "+ 즉 출력 데이터는 입력 데이터의 5×5 영역을 '보고' 계산하게 된다."
      ],
      "metadata": {
        "id": "ouQUt45KDqLT"
      }
    },
    {
      "cell_type": "markdown",
      "source": [
        "+ 5×5의 합성곱 연산 1회는 3×3의 합성곱 연산 2회로 대체할 수 있는데  \n",
        "전자의 매개변수는 25(5×5)개. 후자는 18(3×3×2)개이며 층이 깊어질수록 매개변수는 적어지고 개수의 차이는 커진다."
      ],
      "metadata": {
        "id": "R9xK0piwEEv2"
      }
    },
    {
      "cell_type": "markdown",
      "source": [
        "+ 학습의 효율성도 층을 깊게 하는 것이 이점이다.\n",
        "+ 층을 깊게해서 학습 데이터의 양을 줄여 학습을 고속으로 수행할 수 있다.\n",
        "+ 7.6절에서 CNN의 합성곱 계층이 정보를 계층적으로 추출하고 있음을 설명했다.\n",
        "+ 압단의 합성곱 계층에서 에지 등의 단순한 패턴에 뉴런이 반응하고 층이 깊어지면서 점차 복잡한 것에 반응한다."
      ],
      "metadata": {
        "id": "U7lAN5SKE2xP"
      }
    },
    {
      "cell_type": "markdown",
      "source": [
        "+ 이 네트워크 계층 구조를 기억하고 개를 인식하는 문제를 생각해보자.\n",
        "+ 개의 특징을 이해하려면 변화가 풍부하고 많은 학습 데이터가 필요하여 학습 시간이 오래걸린다.\n",
        "+ 신경망을 깊게 하면 학습해야 할 문제를 계층적으로 분해할 수 있다.\n",
        "+ 처음 층은 에지 학습에 전념하여 적은 학습 데이터로 효율적으로 학습할 수 있는데,  \n",
        "개가 등장하는 이미지보다 에지를 포함한 이미지는 많고 에지의 패턴은 개의 패턴보다 훨씬 간단하기 때문이다."
      ],
      "metadata": {
        "id": "Eh9XdcAlF1wt"
      }
    },
    {
      "cell_type": "markdown",
      "source": [
        "+ 층을 깊게 하면 정보를 계층적으로 전달할 수 있다는 이점도 있다.\n",
        "+ 에지를 추출한 층의 다음 층은 에지 정보를 쓸 수 있고, 더 고도의 패턴을 효과적으로 학습하리라 기대할 수 있다.\n",
        "+ 즉, 층을 깊이 함으로써 각 층이 학습해야할 문제를 '풀기 쉬운 단순한 문제'로 분해할 수 있어 효율적인 학습을 기대할 수 있다."
      ],
      "metadata": {
        "id": "29QnXHmrGacT"
      }
    },
    {
      "cell_type": "markdown",
      "source": [
        "## 8.2 딥러닝의 초기 역사"
      ],
      "metadata": {
        "id": "dWk_PGrlGw0A"
      }
    },
    {
      "cell_type": "markdown",
      "source": [
        "+ 2012년 ILSVRC 대회에서 딥러닝에 기초한 기법 AlexNet이 압도적으로 우승하면서 딥러닝이 큰 주목을 받기 시작했다."
      ],
      "metadata": {
        "id": "UsTu24XOAYd7"
      }
    },
    {
      "cell_type": "markdown",
      "source": [
        "### 8.2.1 이미지넷"
      ],
      "metadata": {
        "id": "vMxapak0Ar1b"
      }
    },
    {
      "cell_type": "markdown",
      "source": [
        "+ 이미지넷은 100만 장이 넘는 이미지를 담고 있는 데이터이다.\n",
        "+ 다양한 종류의 이미지를 포함하며 각 이미지에는 레이블이 붙어있다."
      ],
      "metadata": {
        "id": "C1ig1HaqA-kV"
      }
    },
    {
      "cell_type": "markdown",
      "source": [
        "<img src='http://drive.google.com/uc?export=view&id=1hrPO0fJAxxkPQgtJzfYIAmu9JeP-Yaur' width = 550/><br>"
      ],
      "metadata": {
        "id": "oIknx0ZbBd8N"
      }
    },
    {
      "cell_type": "markdown",
      "source": [
        "+ ILSVRC 대회에는 시험 항목이 몇 가지 있는데, 그 중 하나가 __분류__로, 1000개의 클래스를 제대로 분류하는지 겨룬다.\n",
        "+ 아래는 2015년까지의 분류 시험 결과로 __톱-5 오류__를 막대그래프로 나타냈다.\n",
        "+ 톱-5 오류란 확률이 가장 높다고 생각하는 후보 클래스 5개 모두가 틀린 비율이다."
      ],
      "metadata": {
        "id": "Fu2C791OBh-p"
      }
    },
    {
      "cell_type": "markdown",
      "source": [
        "<img src='http://drive.google.com/uc?export=view&id=1BNq92zPF6cYJme6JRt0nCfJwx2RXzAse' width = 550|/><br>"
      ],
      "metadata": {
        "id": "BMg85DNoCCyQ"
      }
    },
    {
      "cell_type": "markdown",
      "source": [
        "+ 2012년 이후 선두는 항상 딥러닝 방식으로, 2012년의 AlexNet이 오류율을 크게 낮췄고, 그 후 딥러닝을 활용한 기법이 꾸준히 정확도를 개선해왔다.\n",
        "+ 2015년에는 150층이 넘는 심층 신경망 ResNet이 오류율을 3.5%까지 낮췄는데 이는 인간의 인식 능력을 넘어섰다고 한다.\n",
        "+ 그 중 VGG, GoogLeNet, ResNet을 간단히 살펴보자."
      ],
      "metadata": {
        "id": "W_tXiAjiCPRw"
      }
    },
    {
      "cell_type": "markdown",
      "source": [
        "### 8.2.2 VGG"
      ],
      "metadata": {
        "id": "ceRUhnOaCowl"
      }
    },
    {
      "cell_type": "markdown",
      "source": [
        "+  VGG는 합성곱 계층과 풀링 계층으로 구성되는 기본적인 CNN이다.\n",
        "+ 다만 아래 그림처럼 비중 있는 층(합성곱 계층, 완전연결 계층)을 모두 16층(또는 19층)으로 심화한게 특징이다."
      ],
      "metadata": {
        "id": "Hol5dz-UCqti"
      }
    },
    {
      "cell_type": "markdown",
      "source": [
        "<img src='http://drive.google.com/uc?export=view&id=1wlO5yBZawfk4x460s3T89Gz_A-8i6KKF' width = 550/><br>"
      ],
      "metadata": {
        "id": "aqr04sX_DEHr"
      }
    },
    {
      "cell_type": "markdown",
      "source": [
        "+ VGG는 3×3의 작은 필터를 사용한 합성곱 계층을 연속으로 거친다.\n",
        "+ 합성곱 계층을 2~4회 연속으로 풀링 계층을 두어 크기를 절반으로 줄이는 처리를 반복하고 마지막에는 완전연결 계층을 통과시켜 결과를 출력한다."
      ],
      "metadata": {
        "id": "YVGLP8tLDGkh"
      }
    },
    {
      "cell_type": "markdown",
      "source": [
        "### 8.2.3 GoogLeNet"
      ],
      "metadata": {
        "id": "I-w0pkRFDZXi"
      }
    },
    {
      "cell_type": "markdown",
      "source": [
        "+ GoogLeNet의 구성은 아래와 같으며, 사각형이 합성곱 계층과 풀링 계층 등의 계층을 나타낸다."
      ],
      "metadata": {
        "id": "KyA0Xx5wDb-m"
      }
    },
    {
      "cell_type": "markdown",
      "source": [
        "<img src='http://drive.google.com/uc?export=view&id=1qTIz_xxPkmXpfosJYhkmjNhzThRNcQ1N' width = 550/><br>"
      ],
      "metadata": {
        "id": "N-fX4sQfDsWN"
      }
    },
    {
      "cell_type": "markdown",
      "source": [
        "+ GoogLeNet은 세로 방향 깊이뿐 아니라 가로 방향도 깊다는 점이 특징이다.\n",
        "+ 가로 방향에는 폭이 있는데 이를 인셉션 구조라 하며, 그 기반 구조는 다음과 같다."
      ],
      "metadata": {
        "id": "iCB9yZWJDwYs"
      }
    },
    {
      "cell_type": "markdown",
      "source": [
        "<img src='http://drive.google.com/uc?export=view&id=1RFmq7obqpq98KRbg9XOc4vwN3UTjCkbp' width = 550/><br>"
      ],
      "metadata": {
        "id": "BTc7ie-JD8m1"
      }
    },
    {
      "cell_type": "markdown",
      "source": [
        "+ 인셉션 구조는 크기가 다른 필터를 여러 개 적용하여 그 결과를 결합하는데 이 그조를 하나의 빌딩 블록으로 사용한다.\n",
        "+ 1×1 크기의 필터를 사용한 합성곱 계층을 많은 곳에서 사용하는데,  \n",
        "1×1 합성곱 연산은 채널 쪽으로 크기를 줄이는 것으로 매개변수 제거와 고속 처리에 기여한다."
      ],
      "metadata": {
        "id": "nnoPmzV7EIDH"
      }
    },
    {
      "cell_type": "markdown",
      "source": [
        "### 8.2.4 ResNet"
      ],
      "metadata": {
        "id": "_vmGywebEfrm"
      }
    },
    {
      "cell_type": "markdown",
      "source": [
        "+ ResNet은 마이크로소프트의 팀이 개발한 네트워크이다.\n",
        "+ 층을 깊게 하는 것은 성능 향상에 중요하지만, 딥러닝 학습에서 층이 지나치게 깊으면 학습이 잘 되지 않고 오히려 떨어지는 경우도 많다.\n",
        "+ ResNet은 그런 문제를 해결하기 위해 __스킵 연결__을 도입하는데 이 구조는 층의 깊이에 비례해 성능을 향상시킬 수 있게 한 핵심이다."
      ],
      "metadata": {
        "id": "VyB8CH0QEihy"
      }
    },
    {
      "cell_type": "markdown",
      "source": [
        "+ 스킵 연결이란 아래와 같이 입력 데이터를 합성곱 계층을 건너뛰어 출력에 바로 더하는 구조이다."
      ],
      "metadata": {
        "id": "79T1_sIcKADT"
      }
    },
    {
      "cell_type": "markdown",
      "source": [
        "<img src='http://drive.google.com/uc?export=view&id=1VCb1AV3S_RbTfH1bLVhT-eQYJs2kXKJe' width = 550 /><br>"
      ],
      "metadata": {
        "id": "MwcR4L77KKcU"
      }
    },
    {
      "cell_type": "markdown",
      "source": [
        "+ 입력 $x$를 연속한 두 합성곱 계층을 건너뛰어 출력에 바로 연결한다.\n",
        "+ 이 단축 경로가 없다면 두 합성곱 계층의 출력이 $F(x)$가 되지만, 스킵 연결로 $F(x)+x$가 된다.\n",
        "+ 역전파 때 스킵 연결이 신호 감쇠를 막아주기 때문에 스킵 연결은 층이 깊어져도 학습을 효율적으로 할 수 있다.\n",
        "+ ResNet은 VGG 신경망을 기반으로 스킵 연결을 도입하여 층을 깊게 하였다."
      ],
      "metadata": {
        "id": "cbjlTyK1KMvi"
      }
    },
    {
      "cell_type": "markdown",
      "source": [
        "<img src='http://drive.google.com/uc?export=view&id=1rKj49U6R1yX0f1wY2MYpOOKs3FH-8rqd' width = 550 /><br>"
      ],
      "metadata": {
        "id": "ftFzCvNGdLXH"
      }
    },
    {
      "cell_type": "markdown",
      "source": [
        "+ 위와 같이 합성곱 계층을 2개 층마다 건너뛰면서 층을 깊게 한다.\n",
        "+ 실험결과 150층 이상으로 해도 정확도가 오르는 것을 확인하였고 대회 결과에서는 톱-5 오류율이 3.5%라는 좋은 결과를 냈다."
      ],
      "metadata": {
        "id": "6_AUc_P8dU9Z"
      }
    },
    {
      "cell_type": "markdown",
      "source": [
        "## 8.3 더 빠르게(딥러닝 고속화)"
      ],
      "metadata": {
        "id": "g1GWxVX-diOA"
      }
    },
    {
      "cell_type": "markdown",
      "source": [
        "+ 빅데이터와 네트워크 발전으로 딥러닝에서는 대량의 연산을 수행해야하는데, 현재는 CPU만으로 딥러닝을 처리하기엔 역부족이다.\n",
        "+ 딥러닝 프레임워크 대부분은 GPU를 활용해 대량의 연산을 고속으로 처리할 수 있다.\n",
        "+ 딥러닝의 고속화에 대해 살펴보자."
      ],
      "metadata": {
        "id": "bzogCGH1dkkh"
      }
    },
    {
      "cell_type": "markdown",
      "source": [
        "### 8.3.1 풀어야 할 숙제"
      ],
      "metadata": {
        "id": "QZWtiJqSfTkG"
      }
    },
    {
      "cell_type": "markdown",
      "source": [
        "+ 딥러닝에서 어떠한 처리에 시간이 소요되는지 보자.\n",
        "+ 아래는 AlexNet의 순전파에서 각 층이 소비하는 시간을 원 그래프로 보여준다."
      ],
      "metadata": {
        "id": "vXbzPQuAfWdR"
      }
    },
    {
      "cell_type": "markdown",
      "source": [
        "<img src='http://drive.google.com/uc?export=view&id=1-FQ_vvOv8rQwmHjj3eZp_aA9piSMeC5F' width = 550 /><br>"
      ],
      "metadata": {
        "id": "q-BQN4UFfqSC"
      }
    },
    {
      "cell_type": "markdown",
      "source": [
        "+ AlexNet에서 오랜 시간을 합성곱 계층에서 소요하는데 실제로 처리 시간을 다 더하면 GPU에서 전체의 95%. CPU에서 전체의 89%까지 달한다.\n",
        "+ 즉 합성곱 계층에서 이뤄지는 연산을 어떻게 고속으로 처리하느냐가 딥러닝의 과제이다."
      ],
      "metadata": {
        "id": "Jgqj6CE2gK2C"
      }
    },
    {
      "cell_type": "markdown",
      "source": [
        "### 8.3.2 GPU를 활용한 고속화"
      ],
      "metadata": {
        "id": "w7uRIn5cgsVw"
      }
    },
    {
      "cell_type": "markdown",
      "source": [
        "+ 초창기 GPU는 그래픽 전용 보드에 이용해왔으나 최근에는 범용 수치 연산에도 이용한다.\n",
        "+ GPU는 병렬 수치 연산을 고속으로 처리할 수 있어서 다양한 용도로 활용하자는 것이 GPU 컴퓨팅의 목적이다.\n",
        "+ 딥러닝에서 대량 병렬 연산은 GPU의 특기로 이를 이용하면 CPU만 쓸 때보다 훨씬 빠른 결과를 얻을 수 있다.\n",
        "+ 아래는 AlexNet의 학습 시간을 CPU와 GPU에서 비교한 결과이다."
      ],
      "metadata": {
        "id": "egc1fCRDguZT"
      }
    },
    {
      "cell_type": "markdown",
      "source": [
        "<img src='http://drive.google.com/uc?export=view&id=1tRUs5nFunw8e5WXlPX-03zk4MRr08Xpn' wioth = 550/><br>"
      ],
      "metadata": {
        "id": "omwhqL07hjGR"
      }
    },
    {
      "cell_type": "markdown",
      "source": [
        "+ CPU에서는 40여 일이 걸리지만 GPU로는 6일까지 단축하였다. 또한 cuDNN이라는 라이브러리를 이용하면 더욱 빨라짐을 확인했다.\n",
        "+ GPU는 엔비디아와 AMD 두 회사가 제공하는데 딥러닝 프레임워크는 엔비디아 GPU에서 해택을 받을 수 있다.\n",
        "+ 이는 엔비디아 GPU 컴퓨팅용 개발 환경인 CUBA를 사용하기 때문으로 cuDNN도 CUBA위에서 작동하는 라이브러리이다."
      ],
      "metadata": {
        "id": "qt50DUFehnTH"
      }
    },
    {
      "cell_type": "markdown",
      "source": [
        "### 8.3.3 분산 학습"
      ],
      "metadata": {
        "id": "FcPFWTNOiSli"
      }
    },
    {
      "cell_type": "markdown",
      "source": [
        "+ GPU로 딥러닝 연산을 꽤 가속할 수 있지만 심층 신경망에서는 학습에 며칠 혹은 몇 주가 걸리기도 하며 학습 중 많은 시행착오를 동반한다.\n",
        "+ 뛰어난 신경망을 만드려면 시험을 수없이 반복해야 하고 1회 학습 시간을 최대한 단축해야 한다.\n",
        "+ 따라서 딥러닝 학습을 수평 확장 즉, '분산 학습'이 중요하다."
      ],
      "metadata": {
        "id": "4YrLcIZciUF0"
      }
    },
    {
      "cell_type": "markdown",
      "source": [
        "+ 딥러닝 계산을 고속화하고자 다수의 GPU와 기기로 계산을 분산하기도 한다.\n",
        "+ 구글의 텐서플로와 마이크로소프트의 CNTK는 분산 학습에 중점을 두고 개발하고 있다.\n",
        "+ 분산 학습까지 더하면 얼마까지 고속화할 수 있을까? 아래는 텐서플로로 알아본 분산 학습의 효과이다."
      ],
      "metadata": {
        "id": "UZB2YVqbi2UQ"
      }
    },
    {
      "cell_type": "markdown",
      "source": [
        "<img src='http://drive.google.com/uc?export=view&id=1vqlZ9cYYuI4msDiDXKm3OmJKpsIWUSc6' width = 550 /><br>"
      ],
      "metadata": {
        "id": "lYAzgRxijGXO"
      }
    },
    {
      "cell_type": "markdown",
      "source": [
        "+ 위에서 보듯 여러 기기를 연결하여 GPU를 100개까지 사용하면 하나일 때보다 56배가 빨라졌다.\n",
        "+ 이는 7일짜리 작업을 3시간 만에 끝낸다는 것이다."
      ],
      "metadata": {
        "id": "IxYFJdsPjOiO"
      }
    },
    {
      "cell_type": "markdown",
      "source": [
        "### 8.3.4 연산 정밀도와 비트 줄이기"
      ],
      "metadata": {
        "id": "FcZ5vXAJjfBV"
      }
    },
    {
      "cell_type": "markdown",
      "source": [
        "+ 계산 능력 외에도 딥러닝 고속화에 장애물이 되는 것에는 메모리 용량과 버스 대역폭 등이 있다.\n",
        "+ 메모리 용량 면에서는 대량의 가중치 매개변수와 중간 데이터를 메모리에 저장해야 한다는 것이 병목이 된다.\n",
        "+ 버스 대역폭 면에서는 GPU(또는 CPU)의 버스를 흐르는 데이터가 많아져 한계를 넘어서면 병목이 된다.\n",
        "+ 이러한 경우를 고려하면 네트워크로 주고받는 데이터의 비트 수는 최소로 만드는 것이 바람직하다."
      ],
      "metadata": {
        "id": "ezktcI2oVv8y"
      }
    },
    {
      "cell_type": "markdown",
      "source": [
        "+ 컴퓨터에서는 주로 64비트나 32비트 부동소수점 수를 사용해 실수를 표현하는데 딥러닝에서는 16비트 반정밀도만 사용해도 문제가 없다고 알려져 있다.\n",
        "+ 따라서 반정밀도 부동소수점이 표준적으로 이용되고 있다.\n",
        "+ 파이썬은 일반적으로 64비트 부동소수점을 사용하지만 넘파이는 16비트 부동소수점도 지원하며 정확도도 떨어지지 않는다."
      ],
      "metadata": {
        "id": "e-4o6hqsWmnW"
      }
    },
    {
      "cell_type": "markdown",
      "source": [
        "## 8.4 딥러닝의 활용"
      ],
      "metadata": {
        "id": "L0-FwyDkXJcb"
      }
    },
    {
      "cell_type": "markdown",
      "source": [
        "+ 지금까지 딥러닝을 활용해 손글씨 숫자 인식 이미지 분류를 살펴보았다.\n",
        "+ 딥러닝이 할 수 있는 컴퓨터 비전 분야 몇 가지를 살펴보자."
      ],
      "metadata": {
        "id": "ipB4iDv9XLj2"
      }
    },
    {
      "cell_type": "markdown",
      "source": [
        "### 8.4.1 사물 검출"
      ],
      "metadata": {
        "id": "yUnwE6zMYYKv"
      }
    },
    {
      "cell_type": "markdown",
      "source": [
        "+ 사물 검출은 아래와 같이 이미지 속에 담긴 사물의 위치와 종류(클래스)를 알아내는 기술이다."
      ],
      "metadata": {
        "id": "rWvywClsYZyg"
      }
    },
    {
      "cell_type": "markdown",
      "source": [
        "<img src='http://drive.google.com/uc?export=view&id=1TVJ_tLTHZfvmV4SPD6acNBzdulZIuNWM' width = 550/><br>"
      ],
      "metadata": {
        "id": "ve8OqAI2Y7oZ"
      }
    },
    {
      "cell_type": "markdown",
      "source": [
        "+ 사물 인식은 이미지 전체를 대상으로 했지만 사물 검출에서는 이미지 어딘가에 있을 사물 위치를 알아내야 해서 사물 인식보다 어려운 문제이다.\n",
        "+ 사물 검출 문제는 CNN을 기반으로 한 기법이 몇 가지 있는데 그 중에서 __R-CNN__이 유명하다.\n",
        "+ 다음은 R-CNN의 처리 흐름이다."
      ],
      "metadata": {
        "id": "Qtfs1yO8cRVS"
      }
    },
    {
      "cell_type": "markdown",
      "source": [
        "<img src='http://drive.google.com/uc?export=view&id=14kc_zFZp6uwSwDCNLMi6kRzmiTid10f9' width = 550/><br>"
      ],
      "metadata": {
        "id": "sy4ZeldHct_g"
      }
    },
    {
      "cell_type": "markdown",
      "source": [
        "+ 위 그림에서 '2. 후보 영역 추출', '3. CNN 특징 계산'을 주목하자.\n",
        "+ 사물이 위치한 영역을 찾아내고 추출한 각 영역에 CNN을 적용하여 클래스를 분류한다.\n",
        "+ 후보 영역 추출에는 다양한 기법을 사용할 수 있고 R-CNN에서는 Selective Search 기법을 사용했다.\n",
        "+ 후보 영역 추출까지 CNN으로 처리하는 Faster R-CNN 기법도 등장했는데 이는 모든 일을 하나의 CNN에서 처리하기에 아주 빠르다."
      ],
      "metadata": {
        "id": "SAkU5As9c5De"
      }
    },
    {
      "cell_type": "markdown",
      "source": [
        "### 8.4.2 분할"
      ],
      "metadata": {
        "id": "5A00RX9MdkEV"
      }
    },
    {
      "cell_type": "markdown",
      "source": [
        "+ 분할이란 이미지를 픽셀 수준에서 분류하는 문제이다.\n",
        "+ 아래와 같이 픽셀 단위로 객체마다 채색된 지도 데이터를 사용해 학습하며 추론할 때 입력 이미지의 모든 픽셀을 분류한다."
      ],
      "metadata": {
        "id": "lxZ0XjmcdltP"
      }
    },
    {
      "cell_type": "markdown",
      "source": [
        "<img src='http://drive.google.com/uc?export=view&id=1DyCdc7PHKpFHg8SJZnPjziJgKUbQagu4' width = 550 /><br>"
      ],
      "metadata": {
        "id": "3MLEmQ7qd27O"
      }
    },
    {
      "cell_type": "markdown",
      "source": [
        "+ 신경망을 이용해 분할하는 가장 단순한 방법은 모든 픽셀 각각을 추론하는 것이다.\n",
        "+ 예를 들어 어떤 직사각형 영역의 중심 픽셀의 클래스를 분류하는 신경망을 만들어 모든 픽셀 대상으로 하나씩 추론 작업을 실행한다.\n",
        "+ 이 방법은 픽셀의 수만큼 순전파 처리를 해야 하여 긴 시간이 걸리는데 해결방안으로 FCN 기법이 고안되었다.\n",
        "+ 이는 단 한 번의 순전파 처리로 모든 픽셀의 클래스를 분류해주는 기법이다."
      ],
      "metadata": {
        "id": "KHWM2djid5jJ"
      }
    },
    {
      "cell_type": "markdown",
      "source": [
        "<img src='http://drive.google.com/uc?export=view&id=1toH0xKmUbcTo6807-ULHC-MKlEnTizfV' width = 550/><br>"
      ],
      "metadata": {
        "id": "hTeIlVXOenNy"
      }
    },
    {
      "cell_type": "markdown",
      "source": [
        "+ 일반적인 CNN이 완전연결 계층을 이용하는 반면 FCN은 이 완전연결 계층을 같은 기능을 하는 합성곱 계층으로 바꾼다.\n",
        "+ 완전연결 계층에서 중간 데이터의 공간 볼륨을 1차원으로 변환하여 처리했으나 FCN은 공간 볼륨을 유지한 채 출력까지 처리할 수 있다.\n",
        "+ FCN은 마지막에 공간 크기를 확대하는 처리를 도입했다는 특징도 있다.\n",
        "+ 마지막에 수행하는 확대는 이중 선형 보간에 의한 선형 확대로 역합성곱 연산으로 구현했다."
      ],
      "metadata": {
        "id": "YjvBGbnOeqPh"
      }
    },
    {
      "cell_type": "markdown",
      "source": [
        "### 8.4.3 사진 캡션 생성"
      ],
      "metadata": {
        "id": "O0f84NZ9fJkv"
      }
    },
    {
      "cell_type": "markdown",
      "source": [
        "+ 컴퓨터 비전과 자연어를 융합한 연구가 있다.\n",
        "+ 아래와 같이 사진을 주면 이를 설명하는 글을 자동으로 생성하는 연구이다."
      ],
      "metadata": {
        "id": "siZ9j5LOfMla"
      }
    },
    {
      "cell_type": "markdown",
      "source": [
        "<img src='http://drive.google.com/uc?export=view&id=1VstLjTkFWfIf8qx26PuX3PW3tv4PWvB_' width = 550/><br>"
      ],
      "metadata": {
        "id": "RB2ioBBLfdtX"
      }
    },
    {
      "cell_type": "markdown",
      "source": [
        "+ 첫 번째는 사진만 보고 비포장도로에서 오토바이를 타는 사람(A person riding a motorcycle on a dirt road)라는 문장을 자동으로 생성했다.\n",
        "+ 딥러닝으로 사진 캡션을 생성하는 방법으로는 NIC 모델이 대표적이다.\n",
        "+ NIC는 아래와 같이 심층 CNN과 자연어를 다루는 순환 싱경망(RNN)으로 구성된다."
      ],
      "metadata": {
        "id": "oV5j_dsefgi4"
      }
    },
    {
      "cell_type": "markdown",
      "source": [
        "<img src='http://drive.google.com/uc?export=view&id=1CSroVCiUNh9Lx3a7UXIrICBXZSEukdyy' width = 550/><br>"
      ],
      "metadata": {
        "id": "ruzNBSCbf2XM"
      }
    },
    {
      "cell_type": "markdown",
      "source": [
        "+ NIC는 CNN으로 사진에서 특징을 추출하고 이를 RNN에 넘긴다.\n",
        "+ RNN은 CNN이 추출한 특징을 초깃값으로 텍스트를 순환적으로 생성한다.\n",
        "+ 사진이나 자연어와 같은 여러 종류의 정보를 조합하고 처리하는 것을 __멀티모달 처리__라고 한다."
      ],
      "metadata": {
        "id": "lr5u4_sLgBBT"
      }
    },
    {
      "cell_type": "markdown",
      "source": [
        "## 8.5 딥러닝의 미래"
      ],
      "metadata": {
        "id": "8oOAo5ElgSvz"
      }
    },
    {
      "cell_type": "markdown",
      "source": [
        "### 8.5.1 이미지 스타일(화풍) 변환"
      ],
      "metadata": {
        "id": "Ip6eYBXVgWW_"
      }
    },
    {
      "cell_type": "markdown",
      "source": [
        "+ 딥러닝을 활용해 화가처럼 그림을 그리는 연구가 있다.\n",
        "+ 아래는 두 이미지를 입력해서 새로운 그림을 생성하는 것으로  \n",
        "하나는 콘텐츠 이미지, 다른 하나는 스타일 이미지라고 하고 이를 조합해 새로운 그림을 그려준다."
      ],
      "metadata": {
        "id": "y3xIeyS_gYxr"
      }
    },
    {
      "cell_type": "markdown",
      "source": [
        "<img src='http://drive.google.com/uc?export=view&id=1g8366RWJQhIDHBVt-xCCDa8oHN9bKvkF' width = 550/><br>"
      ],
      "metadata": {
        "id": "CvcmBjKggrpY"
      }
    },
    {
      "cell_type": "markdown",
      "source": [
        "+ 위와 같이 고흐의 화풍을 콘텐츠 이미지에 적용하면 이를 기초로 새로운 그림을 그린다."
      ],
      "metadata": {
        "id": "-ccNy_pzgs1h"
      }
    },
    {
      "cell_type": "markdown",
      "source": [
        "### 8.5.2 이미지 생성"
      ],
      "metadata": {
        "id": "fu8b6qjig26j"
      }
    },
    {
      "cell_type": "markdown",
      "source": [
        "+ 앞의 이미지 스타일 변환 예는 새로운 그림을 생성하려면 두 장의 이미지를 입력해야 했다.\n",
        "+ 아무런 입력 이미지 없이도 새로운 이미지를 그려내는 연구도 있다.\n",
        "+ 이는 대량의 이미지를 사용하여 학습하지만 학습이 끝난 후에는 아무런 입력 이미지없이도 새로운 그림을 그린다.\n",
        "+ 아래 이미지는 DCGAN 기법으로 생성한 침실 이미지들이다."
      ],
      "metadata": {
        "id": "Ma9eRD8wg4ms"
      }
    },
    {
      "cell_type": "markdown",
      "source": [
        "<img src='http://drive.google.com/uc?export=view&id=1wJaIwbZM1OhqrCeh_hyf3GenYzyM7N4s' width = 550 /><br>"
      ],
      "metadata": {
        "id": "TXFuaxSthLYx"
      }
    },
    {
      "cell_type": "markdown",
      "source": [
        "+ 위 이미지들은 DCGAN을 사용해 생성한 이미지로 학습 데이터에는 존재하지 않는 이미지이다.\n",
        "+ 진짜와 구분할 수 없는 수준의 이미지를 그리는 DCGAN은 이미지를 생성하는 과정을 모델화한다.\n",
        "+ 그 모델을 대량의 이미지를 사용해 학습하여 새로운 그림을 생성할 수 있다."
      ],
      "metadata": {
        "id": "lN5Q4YeknpqR"
      }
    },
    {
      "cell_type": "markdown",
      "source": [
        "+ DCGAN도 딥러닝을 사용하는데 생성자와 식별자로 불리는 2개의 신경망을 이용한다.\n",
        "+ 생성자가 진짜와 똑같은 이미지를 생성하고 식별자는 그것이 진짜인지를 판정한다.\n",
        "+ 이 둘을 겨루도록 학습시켜 생성자는 더 정교한 가짜 이미지를 생성하도록 학습하고 식별자는 더 정확하게 판별하도록 학습한다."
      ],
      "metadata": {
        "id": "g_8l9tFkoBih"
      }
    },
    {
      "cell_type": "markdown",
      "source": [
        "### 8.5.3 자율 주행"
      ],
      "metadata": {
        "id": "rvdxCqVIoUuP"
      }
    },
    {
      "cell_type": "markdown",
      "source": [
        "+ 자율 주행은 다양한 환경에서 안전한 주행 영역을 올바로 인식하여 컴퓨터가 자동차를 운전하는 기술이다.\n",
        "+ 주위 환경을 인식하는 기술에서 딥러닝이 큰 역할을 하는데  \n",
        "SegNet이라는 CNN 기반 신경망은 아래와 같이 주변 환경을 정확하게 인식한다."
      ],
      "metadata": {
        "id": "xSCXF9qfoW7C"
      }
    },
    {
      "cell_type": "markdown",
      "source": [
        "<img src='http://drive.google.com/uc?export=view&id=1aaYTbXyq9JgSud8aA4IPbC7cwU5TjJzc' width = 550/><br>"
      ],
      "metadata": {
        "id": "lktXQtRPoxVF"
      }
    },
    {
      "cell_type": "markdown",
      "source": [
        "+ 위와 같이 입력 이미지를 분할하고 결과를 보면 도로와 건물, 보도와 나무, 차량과 오토바이 등을 어느 정도 정확히 판별한다."
      ],
      "metadata": {
        "id": "hKkBmxejo9kZ"
      }
    },
    {
      "cell_type": "markdown",
      "source": [
        "### 8.5.4 Deep Q-Network(강화학습)"
      ],
      "metadata": {
        "id": "SHwKhIVupEcS"
      }
    },
    {
      "cell_type": "markdown",
      "source": [
        "+ 컴퓨터가 시행착오 과정을 스스로 학습하게 하려는 분야를 강화학습이라고 한다.\n",
        "+ 강화학습에서는 에이전트라는 것이 환경에 맞게 행동을 선택하고 행동에 의해 환경이 변한다는 것이 기본 틀이다.\n",
        "+ 환경이 변화하면 에이전트는 보상을 얻고 더 나은 보상을 받는 쪽으로 에이전트의 행동을 바로잡는다."
      ],
      "metadata": {
        "id": "_S-bBschpIac"
      }
    },
    {
      "cell_type": "markdown",
      "source": [
        "<img src='http://drive.google.com/uc?export=view&id=188zk4-AHvXRo90hQlXc3uwC9s3CS__vS' width = 550/><br>"
      ],
      "metadata": {
        "id": "sbfzDUdPpfk9"
      }
    },
    {
      "cell_type": "markdown",
      "source": [
        "+ 위는 강화학습의 기본 틀로, 여기서 주의점은 보상은 정해진 것이 아니라 예상 보상이라는 것이다.\n",
        "+ 이는 어떤 상황에서의 행동이냐에 따라 보상은 달라지는데 불명확한 상황에서는 명확한 지표로부터 역산하여 예상 보상을 정해야한다."
      ],
      "metadata": {
        "id": "1hLL6u1bpqE_"
      }
    },
    {
      "cell_type": "markdown",
      "source": [
        "+ 딥러닝을 사용한 강화학습 중 __Deep Q-Network(DQN)__ 라는 방법이 있다.\n",
        "+ 이는 Q학습이라는 강화학습 알고리즘을 기초로 하는데 Q학습은 최적 행동 가치 함수로 최적인 행동을 정한다.\n",
        "+ 이 함수를 딥러닝으로 비슷하게 흉내낸 것이 DQN이다.\n",
        "+ DQN 연구 중에서 비디오 게임을 자율 학습시켜 사람을 뛰어넘는 수준의 조작을 실현한 사례가 보고된다.\n",
        "+ 아래와 같이 DQN에서 사용하는 CNN은 게임 영상 프레임을 입력하여 최종적으로 게임을 제어하는 움직임에 대해 각 동작의 가치를 출력한다."
      ],
      "metadata": {
        "id": "MryQCCdZqJU9"
      }
    },
    {
      "cell_type": "markdown",
      "source": [
        "<img src='http://drive.google.com/uc?export=view&id=19iVJ--3XGxcPCLWvTleEIM-iTPmiGVsZ' width = 550/><br>"
      ],
      "metadata": {
        "id": "d8CDti5Zq56B"
      }
    },
    {
      "cell_type": "markdown",
      "source": [
        "+ 그동안의 비디오 게임 학습에서는 게임의 상태는 미리 추출되었지만 DQN에서의 입력 데이터는 비디오 게임의 영상뿐이다.\n",
        "+ 이는 DQN의 응용 가능성을 상당히 높였다고 할 수 있는데 게임마다 설정을 바꿀 필요없이  \n",
        "DQN에 게임 영상을 보여주기만 하면 된다.\n",
        "+ 실제 DQN은 구성을 변경하지 않고도 사람보다 뛰어난 성적을 얻고있다."
      ],
      "metadata": {
        "id": "qMZJyd7Lq7xm"
      }
    },
    {
      "cell_type": "markdown",
      "source": [
        "## 8.6 정리"
      ],
      "metadata": {
        "id": "iDfyO7ksrZwD"
      }
    },
    {
      "cell_type": "markdown",
      "source": [
        "+ 수많은 문제에서 신경망을 더 깊게 하여 성능을 개선할 수 있다.\n",
        "+ 이미지 인식 기술 대회인 ILSVRC에서는 최근 딥러닝 기반 기법이 상위권을 독점하고 있으며, 그 깊이도 깊어지는 추세이다.\n",
        "+ 유명한 신경망으로는 VGG, GoogLeNet, ResNet이 있다.\n",
        "+ GPU와 분산 학습, 비트 정밀도 감소 등으로 딥러닝을 고속화할 수 있다.\n",
        "+ 딥러닝(신경망)은 사물 인식뿐 아니라 사물 검출과 분할에도 이용할 수 있다.\n",
        "+ 딥러닝의 응용 분야로는 사진의 캡션 생성, 이미지 생성, 강화학습 등이 있다.  \n",
        "최근에는 자율 주행에도 딥러닝을 접목하고 있다."
      ],
      "metadata": {
        "id": "lcf9b7kprbhY"
      }
    },
    {
      "cell_type": "code",
      "source": [],
      "metadata": {
        "id": "7Jt9Zto7GzKn"
      },
      "execution_count": null,
      "outputs": []
    }
  ]
}