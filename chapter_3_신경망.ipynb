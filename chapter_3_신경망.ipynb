{
  "nbformat": 4,
  "nbformat_minor": 0,
  "metadata": {
    "colab": {
      "provenance": [],
      "mount_file_id": "1Pdow9eYxceC75jDNbamOXVnKCtN3_qLq",
      "authorship_tag": "ABX9TyPhLBYCbJ53aPIjJOWhRWtO",
      "include_colab_link": true
    },
    "kernelspec": {
      "name": "python3",
      "display_name": "Python 3"
    },
    "language_info": {
      "name": "python"
    }
  },
  "cells": [
    {
      "cell_type": "markdown",
      "metadata": {
        "id": "view-in-github",
        "colab_type": "text"
      },
      "source": [
        "<a href=\"https://colab.research.google.com/github/Junoflows/DeepLearning_From_Scratch1/blob/main/chapter_3_%EC%8B%A0%EA%B2%BD%EB%A7%9D.ipynb\" target=\"_parent\"><img src=\"https://colab.research.google.com/assets/colab-badge.svg\" alt=\"Open In Colab\"/></a>"
      ]
    },
    {
      "cell_type": "markdown",
      "source": [
        "# Chapter 3 신경망"
      ],
      "metadata": {
        "id": "tddNiJt1hjPA"
      }
    },
    {
      "cell_type": "markdown",
      "source": [
        "+ 퍼셉트론의 장점 : 복잡한 함수도 표현할 수 있음\n",
        "+ 퍼셉트론의 단점 : 가중치를 설정하는 작업은 사람이 수동으로 해야함\n",
        "+ 신경망은 가중치 매개변수를 데이터로부터  자동으로 학습하여 퍼셉트론의 단점을 해결할 수 있음"
      ],
      "metadata": {
        "id": "7tdVa4o8nwm_"
      }
    },
    {
      "cell_type": "code",
      "source": [
        "# Python 코드 작성 시 warning 무시시\n",
        "import warnings\n",
        "warnings.filterwarnings('ignore')"
      ],
      "metadata": {
        "id": "70AZ0UQX3qLR"
      },
      "execution_count": null,
      "outputs": []
    },
    {
      "cell_type": "markdown",
      "source": [
        "## 3.1 퍼셉트론에서 신경망으로"
      ],
      "metadata": {
        "id": "QKWoai4FoqIM"
      }
    },
    {
      "cell_type": "markdown",
      "source": [
        "### 3.1.1 신경망의 예"
      ],
      "metadata": {
        "id": "3usWJu-Kqt5y"
      }
    },
    {
      "cell_type": "markdown",
      "source": [
        "<img src='http://drive.google.com/uc?export=view&id=1pjGJlhU9AB-GrHbpe1mLttvlBXQ3JRSC' height = 200/><br>"
      ],
      "metadata": {
        "id": "cbwY1FD9qCAX"
      }
    },
    {
      "cell_type": "markdown",
      "source": [
        "+ 신경망을 그림으로 나타내면 위 그림처럼 된다.  \n",
        "+ 가장 왼쪽 줄을 __입력층__, 맨 오른쪽 줄을 __출력층__, 중간 줄을 __은닉층__ 이라고 한다.  \n",
        "+ 은칙층의 뉴런은 사람 눈에는 보이지 않는다.  \n",
        "+ 입력층에서 출력층의 방향으로 차례로 0층, 1층, 2층이라고 한다.  \n",
        "(파이썬 배열의 인덱스도 0부터 시작하여, 구현할 때 용이함)\n",
        "+ 위 그림에서는 0층이 입력층, 1층이 은닉층, 2층이 출력층이 된다."
      ],
      "metadata": {
        "id": "tR6YfrRmqame"
      }
    },
    {
      "cell_type": "markdown",
      "source": [
        "__NOTE__  \n",
        "위 신경망은 3층으로 구성되지만, 가중치를 갖는 층은 2개뿐이므로 __2층 신경망__ 이라고 한다."
      ],
      "metadata": {
        "id": "JYsD4Wnirns1"
      }
    },
    {
      "cell_type": "markdown",
      "source": [
        "위 신경망은 앞 장에서 본 퍼셉트론과 특별히 달라진 것이 없어보인다.  \n",
        "그럼 신경망에서는 신호를 어떻게 전달할까?"
      ],
      "metadata": {
        "id": "RmzsNQLUr7zP"
      }
    },
    {
      "cell_type": "markdown",
      "source": [
        "### 3.1.2 퍼셉트론 복습"
      ],
      "metadata": {
        "id": "qzoNgDHzsM8B"
      }
    },
    {
      "cell_type": "markdown",
      "source": [
        "<img src='http://drive.google.com/uc?export=view&id=1_9nHL9y5rA39t3hQor6EioYXmg-twKkr' /><br>"
      ],
      "metadata": {
        "id": "0tCmR4Wr0Ie0"
      }
    },
    {
      "cell_type": "markdown",
      "source": [
        "+ $x_1, x_2$ 라는 두 신호를 입력받아 $y$ 를 출력하는 퍼셉트론이다.  \n",
        "+ 수식으로 나타내보자.\n",
        "$y =\n",
        "\\begin{cases}\n",
        "0 \\;(b + w_1x_1 + w_2x_2 \\leq 0)\\\\\n",
        "1 \\;(b + w_1x_1 + w_2x_2 > 0)\n",
        "\\end{cases}$   [식 3.1]\n"
      ],
      "metadata": {
        "id": "_YgeU3af0bE2"
      }
    },
    {
      "cell_type": "markdown",
      "source": [
        "+ $b$ 는 __편향__을 나타내는 매개변수로, 뉴런이 얼마나 쉽게 활성화되느냐를 제어한다.  \n",
        "+ $w_1, w_2$ 는 각 신호의 __가중치__를 나타내는 매개변수로, 각 신호의 영향력을 제어한다.\n",
        "+ 위 그림의 퍼셉트론에서는 편향 $b$ 가 명시되지 않았고, 여기에 편향을 명시한다면 아래 그림과 같이 나타낼 수 있다."
      ],
      "metadata": {
        "id": "D-R4_2qu0i0B"
      }
    },
    {
      "cell_type": "markdown",
      "source": [
        "<img src='http://drive.google.com/uc?export=view&id=1-Io-VDZLA0-TkvnVtlwjoTWMmErw6pxT' height = 300 /><br>\n",
        "위 그림에서는 가충치가 $b$ 이고 입력이 1인 뉴런이 추가되었다.\n"
      ],
      "metadata": {
        "id": "5aQMrw5K0KRy"
      }
    },
    {
      "cell_type": "markdown",
      "source": [
        "__위 퍼셉트론의 동작__  \n",
        "1. $x_1, x_2$, 1이라는 3개의 신호가 뉴런에 입력되어, 각 신호에 가중치를 곱한 후, 다음 뉴런에 전달된다.\n",
        "2. 다음 뉴런에서 이 신호들의 값을 더하여 그 합이 0을 넘으면 1, 넘지 않으면 0 을 출력한다."
      ],
      "metadata": {
        "id": "ugaeWF1N2avA"
      }
    },
    {
      "cell_type": "markdown",
      "source": [
        "$y =\n",
        "\\begin{cases}\n",
        "0 \\;(b + w_1x_1 + w_2x_2 \\leq 0)\\\\\n",
        "1 \\;(b + w_1x_1 + w_2x_2 > 0)\n",
        "\\end{cases}$ <br/><br/>\n",
        "+ 이 수식을 좀 더 간결한 형태로 다시 작성해보자.  \n",
        "+ 조건 분기의 동작(0을 넘으면 1, 넘지 않으면 0을 출력하는 조건)을 하나의 함수로 나타낸다.  \n",
        "+ 이 함수를 $h(x)$ 라 하면 위 수식을 다음과 같이 표현할 수 있다.\n"
      ],
      "metadata": {
        "id": "Vt4ucUf95okL"
      }
    },
    {
      "cell_type": "markdown",
      "source": [
        "$ y = h(b+w_1x_1+w_2x_2)$  <br/><br/>\n",
        "$h(x) =\n",
        "\\begin{cases}\n",
        "0 \\;(x \\leq 0)\\\\\n",
        "1 \\;(x > 0)\n",
        "\\end{cases}$"
      ],
      "metadata": {
        "id": "_9sysGgh6t1g"
      }
    },
    {
      "cell_type": "markdown",
      "source": [
        "### 3.1.3 활성화 함수의 등장"
      ],
      "metadata": {
        "id": "E9F4jkBF8iE4"
      }
    },
    {
      "cell_type": "markdown",
      "source": [
        "+ $h(x)$ 와 같이 입력 신호의 총합을 출력 신호로 변환하는 함수를 __활성화 함수__ 라고 한다.\n",
        "+ 활성화 함수는 입력 신호의 총합이 활성화를 일으키는지 정하는 역할을 한다."
      ],
      "metadata": {
        "id": "gr1snVfj8oc4"
      }
    },
    {
      "cell_type": "markdown",
      "source": [
        "$ y = h(b+w_1x_1+w_2x_2)$  <br/><br/>\n",
        "$h(x) =\n",
        "\\begin{cases}\n",
        "0 \\;(x \\leq 0)\\\\\n",
        "1 \\;(x > 0)\n",
        "\\end{cases}$"
      ],
      "metadata": {
        "id": "QmsMWSkXGNk9"
      }
    },
    {
      "cell_type": "markdown",
      "source": [
        "+ 위 식을 보면, 가중치가 곱해진 입력 신호의 종합을 계산하고  \n",
        "그 합을 활성화 함수에 입력해 결과를 내는 2단계로 처리된다.\n",
        "+ 즉, 이 식은 다음과 같은 2개의 식으로 나눌 수 있다."
      ],
      "metadata": {
        "id": "HIcJpxn0ETNP"
      }
    },
    {
      "cell_type": "markdown",
      "source": [
        "$ a = b + w_1x_1 + w_2x_2$<br/>\n",
        "$ y = h(a)$"
      ],
      "metadata": {
        "id": "LK3F7pD8Elhf"
      }
    },
    {
      "cell_type": "markdown",
      "source": [
        "+ 가중치가 달린 입력 신호와 편향의 총합을 계산하고, 이를 $a$ 라 한다.\n",
        "+ $a$ 를 함수 $h()$에 넣어 $y$를 출력한다.\n",
        "+ 지금까지의 처리 과정을 그려보면 아래와 같이 나타낼 수 있다."
      ],
      "metadata": {
        "id": "DujIptM3FBY3"
      }
    },
    {
      "cell_type": "markdown",
      "source": [
        "<img src='http://drive.google.com/uc?export=view&id=1iAeObZ50sbwL1uBVT7aIjcflbV4nI__F' height = 300 /><br>\n",
        "기존 뉴런의 원을 키우고, 그 안에 활성화 함수의 처리 과정을 그려넣었음"
      ],
      "metadata": {
        "id": "bRRnASxAGpsT"
      }
    },
    {
      "cell_type": "markdown",
      "source": [
        "+ 가중치 신호를 조합한 결과가 $a$라는 노드가 되고, 활성화 함수 $h()$ 를 통과하여  \n",
        "$y$ 라는 노드로 변환되는 과정이 분명하게 나타나 있다.  \n",
        "(노드와 뉴런은 같은 용어라고 봐도 무방함)"
      ],
      "metadata": {
        "id": "Gnwa4Ms4Hxbb"
      }
    },
    {
      "cell_type": "markdown",
      "source": [
        "<img src='http://drive.google.com/uc?export=view&id=1m-V-cG9Bw2Dxx-Rf6VzrWXblsMzbaXnt' height = 150 /><br>\n",
        "뉴런을 그랠 때 보통 하나의 원으로 그린다.  \n",
        "신경망의 동작을 명확히 드러내고자 할 때는 활성화 처리 과정을 명시하기도 한다.  \n"
      ],
      "metadata": {
        "id": "Ed3W7fGrMLnP"
      }
    },
    {
      "cell_type": "markdown",
      "source": [
        "__NOTE__  \n",
        "__단순 퍼셉트론__ : 단층 네트워크에서 계단 함수를 활성화 함수로 사용한 모델  \n",
        "__다층 퍼셉트론__ : 신경망(여러 층으로 구성되고 시그모이드 함수 등의 활성화 함수를 사용한 네트워크)  \n",
        "활성화 함수가 퍼셉트론에서 신경망으로 가는 중요한 역할을 한다."
      ],
      "metadata": {
        "id": "ExZHMlL7M2ge"
      }
    },
    {
      "cell_type": "markdown",
      "source": [
        "## 3.2 활성화 함수"
      ],
      "metadata": {
        "id": "AeS3_jUmNXAr"
      }
    },
    {
      "cell_type": "markdown",
      "source": [
        "$h(x) =\n",
        "\\begin{cases}\n",
        "0 \\;(x \\leq 0)\\\\\n",
        "1 \\;(x > 0)\n",
        "\\end{cases}$ <br/>\n",
        "+ 이와 같은 활성화 함수는 임계값을 경계로 출력이 바뀌는데, 이런 함수를 __계단 함수__라고 한다.  \n",
        "+ 즉, 퍼셉트론에서는 활성화 함수로 계단 함수를 이용한다고 할 수 있다.\n",
        "+ 계단 함수 이외의 함수를 이용하면 어떻게 될까?"
      ],
      "metadata": {
        "id": "xvmiiIF0NdWi"
      }
    },
    {
      "cell_type": "markdown",
      "source": [
        "### 3.2.1 시그모이드 함수"
      ],
      "metadata": {
        "id": "C38Ymgt6OBaq"
      }
    },
    {
      "cell_type": "markdown",
      "source": [
        "+ 시그모이드 함수는 신경망에서 자주 이용하는 활성화 함수이다.  "
      ],
      "metadata": {
        "id": "5v-gaMtb65lY"
      }
    },
    {
      "cell_type": "markdown",
      "source": [
        "$ h(x) = \\frac{1}{1+e^{-x}}$\n",
        "+ 신경망에서는 시그모이드 함수를 이용하여 신호를 변환하고,  \n",
        "변환된 신호를 다음 뉴런에  전달한다.\n",
        "+ 시그모이드 함수와 계단 함수와 비교해보자."
      ],
      "metadata": {
        "id": "dmiXolNf8EYu"
      }
    },
    {
      "cell_type": "markdown",
      "source": [
        "### 3.2.2 계단 함수 구현하기"
      ],
      "metadata": {
        "id": "XsJifjSJ7sT7"
      }
    },
    {
      "cell_type": "markdown",
      "source": [
        "+ 계단 함수는 입력이 0을 넘으면 1, 넘지 않으면  0을 출력하는 함수이다.\n",
        "+ 아래는 계단 함수를 단순하게 구현한 코드이다."
      ],
      "metadata": {
        "id": "QJBMIMSJ8cSA"
      }
    },
    {
      "cell_type": "code",
      "source": [
        "import numpy as np\n",
        "def step_function(x):\n",
        "  if x > 0:\n",
        "    return 1\n",
        "  else:\n",
        "    return 0"
      ],
      "metadata": {
        "id": "rFUSmvi68UKo"
      },
      "execution_count": null,
      "outputs": []
    },
    {
      "cell_type": "markdown",
      "source": [
        "+ 이 구현은 단순하지만 $x$는 실수만 받아들인다.\n",
        "+ 즉 step_function(3.0)은 되지만 step_function(np.array([1.0,2.0]))은 안된다.\n",
        "+ 넘파이 배열도 입력할 수 있도록 코드를 수정하자."
      ],
      "metadata": {
        "id": "JG82f1GD8pDn"
      }
    },
    {
      "cell_type": "code",
      "source": [
        "def step_function(x):\n",
        "  y = x > 0\n",
        "  return y.astype(np.int)"
      ],
      "metadata": {
        "id": "DNUO8KUh9Oyz"
      },
      "execution_count": null,
      "outputs": []
    },
    {
      "cell_type": "markdown",
      "source": [
        "+ 위 코드에 x에 넘파이 배열 넣어보자."
      ],
      "metadata": {
        "id": "L537ai7y9nhI"
      }
    },
    {
      "cell_type": "code",
      "source": [
        "x = np.array([-1.0,1.0,2.0])\n",
        "y = step_function(x)\n",
        "print(y)"
      ],
      "metadata": {
        "colab": {
          "base_uri": "https://localhost:8080/"
        },
        "id": "EZ7aEjrkDgqs",
        "outputId": "f4946a6d-4740-46cd-ae93-8c0ddf84df8a"
      },
      "execution_count": null,
      "outputs": [
        {
          "output_type": "stream",
          "name": "stdout",
          "text": [
            "[0 1 1]\n"
          ]
        }
      ]
    },
    {
      "cell_type": "markdown",
      "source": [
        "+ astype() 메서드를 이용하여 bool을 int로 변환할 수 있다. (True는 1, False는 0)\n",
        "+ 이처럼 계단 함수를 구현할 수 있다."
      ],
      "metadata": {
        "id": "PbzyjxHuEJXt"
      }
    },
    {
      "cell_type": "markdown",
      "source": [
        "### 3.2.3 계단 함수의 그래프"
      ],
      "metadata": {
        "id": "UyvYIBUmEb_f"
      }
    },
    {
      "cell_type": "markdown",
      "source": [
        "+ 앞에서 정의한 계단 함수를 그래프로 그려보자\n",
        "+ 그래프를 그리기 위해 matplotlib 라이브러리를 사용한다."
      ],
      "metadata": {
        "id": "PawUPsMqw0h6"
      }
    },
    {
      "cell_type": "code",
      "source": [
        "import numpy as np\n",
        "import matplotlib.pylab as plt\n",
        "\n",
        "def step_function(x):\n",
        "  return np.array(x > 0, dtype = np.int)\n",
        "\n",
        "x = np.arange(-5.0, 5.0, 0.1)\n",
        "y = step_function(x)\n",
        "plt.plot(x,y)\n",
        "plt.ylim(-0.1, 1.1)\n",
        "plt.show()"
      ],
      "metadata": {
        "colab": {
          "base_uri": "https://localhost:8080/",
          "height": 430
        },
        "id": "Ni8ar0PkEepn",
        "outputId": "0a4eb27f-df2f-47a2-a9f8-945ad9885da3"
      },
      "execution_count": null,
      "outputs": [
        {
          "output_type": "display_data",
          "data": {
            "text/plain": [
              "<Figure size 640x480 with 1 Axes>"
            ],
            "image/png": "[encoded data removed]"
          },
          "metadata": {}
        }
      ]
    },
    {
      "cell_type": "markdown",
      "source": [
        "+ np.arange(-5.0, 5.0, 0.1)은 -5.0 에서 5.0 전까지 0.1 간격으로 넘파이 배열을 생성한다.\n",
        "+ 계단 함수는 0을 경계로 출력이 0에서 1(또는 1에서 0)으로 바뀐다.\n",
        "+ 그래프를 보면 형태가 계단처럼 생겼기 때문에 계단함수라고 불린다."
      ],
      "metadata": {
        "id": "7uQMQd1-yBiO"
      }
    },
    {
      "cell_type": "markdown",
      "source": [
        "### 3.2.4 시그모이드 함수 구현하기"
      ],
      "metadata": {
        "id": "lKsffJ0Fy_H0"
      }
    },
    {
      "cell_type": "markdown",
      "source": [
        "+ 시그모이드 함수를 구현해보자."
      ],
      "metadata": {
        "id": "IeNXPFTezBvD"
      }
    },
    {
      "cell_type": "code",
      "source": [
        "def sigmoid(x):\n",
        "  return 1 / (1 + np.exp(-x))"
      ],
      "metadata": {
        "id": "bLfO60FbxdnD"
      },
      "execution_count": null,
      "outputs": []
    },
    {
      "cell_type": "code",
      "source": [
        "x = np.array([-1.0, 1.0, 2.0])\n",
        "sigmoid(x)"
      ],
      "metadata": {
        "colab": {
          "base_uri": "https://localhost:8080/"
        },
        "id": "_mglDgRdzRGe",
        "outputId": "fcc02b64-03bf-4db2-f315-5a0fd0764bd1"
      },
      "execution_count": null,
      "outputs": [
        {
          "output_type": "execute_result",
          "data": {
            "text/plain": [
              "array([0.26894142, 0.73105858, 0.88079708])"
            ]
          },
          "metadata": {},
          "execution_count": 23
        }
      ]
    },
    {
      "cell_type": "markdown",
      "source": [
        "+ 시그모이드 함수를 그래프로 구현해보자."
      ],
      "metadata": {
        "id": "zAgpTee_zxMC"
      }
    },
    {
      "cell_type": "code",
      "source": [
        "x = np.arange(-5.0, 5.0, 0.1)\n",
        "y = sigmoid(x)\n",
        "plt.plot(x,y)\n",
        "plt.ylim(-0.1, 1.1)\n",
        "plt.show()"
      ],
      "metadata": {
        "colab": {
          "base_uri": "https://localhost:8080/",
          "height": 430
        },
        "id": "CXe4WfQO0Py6",
        "outputId": "6783b58a-061a-4975-ea7e-cec81ea35e41"
      },
      "execution_count": null,
      "outputs": [
        {
          "output_type": "display_data",
          "data": {
            "text/plain": [
              "<Figure size 640x480 with 1 Axes>"
            ],
            "image/png": "[encoded data removed]"
          },
          "metadata": {}
        }
      ]
    },
    {
      "cell_type": "markdown",
      "source": [
        "__NOTE__  \n",
        "시그모이드란 'S자 모양' 이라는 뜻이다."
      ],
      "metadata": {
        "id": "fRzkpDjl2C8c"
      }
    },
    {
      "cell_type": "markdown",
      "source": [
        "### 3.2.5 시그모이드 함수와 계단 함수 비교"
      ],
      "metadata": {
        "id": "zxXMRt3K0zpD"
      }
    },
    {
      "cell_type": "markdown",
      "source": [
        "+ 시그모이드랑 계단 함수의 공통점과 차이점을 비교해보자."
      ],
      "metadata": {
        "id": "Ycg2D1sQ028q"
      }
    },
    {
      "cell_type": "code",
      "source": [
        "x = np.arange(-5.0, 5.0, 0.1)\n",
        "y1 = sigmoid(x)\n",
        "y2 = step_function(x)\n",
        "plt.plot(x,y1, label = 'sigmoid')\n",
        "plt.plot(x,y2, linestyle = 'dashed', label = 'step_function')\n",
        "plt.ylim(-0.1, 1.1)\n",
        "plt.legend()\n",
        "plt.show()"
      ],
      "metadata": {
        "colab": {
          "base_uri": "https://localhost:8080/",
          "height": 430
        },
        "id": "N-i83lUG040A",
        "outputId": "205ec1f5-a591-4398-d81e-d9b42d87d0e8"
      },
      "execution_count": null,
      "outputs": [
        {
          "output_type": "display_data",
          "data": {
            "text/plain": [
              "<Figure size 640x480 with 1 Axes>"
            ],
            "image/png": "[encoded data removed]"
          },
          "metadata": {}
        }
      ]
    },
    {
      "cell_type": "markdown",
      "source": [
        "__차이점__\n",
        "+ 시그모이드 함수는 부드러운 곡선이며 입력에 따라 출력이 연속적으로 변한다.\n",
        "+ 계단 함수는 0을 경계로 출력이 불연속적으로 바뀐다.\n",
        "+ 퍼셉트론은 뉴런 사이에 0,1 값만 흘렀다면, 신경망에서는 연속적인 실수가 흐른다.\n",
        "+ 시그모이드 함수의 연속성이 신경망 학습에서 아주 중요한 역할을 하게 된다."
      ],
      "metadata": {
        "id": "ntQLcfNl4ZH9"
      }
    },
    {
      "cell_type": "markdown",
      "source": [
        "__공통점__\n",
        "+ 두 함수 모두 입력이 작을 때의 출력은 0에 가깝고 클 때의 출력은 1에 가깝다.\n",
        "+ 입력하는 숫자와 상관없이 0과 1 사이의 값이 출력된다."
      ],
      "metadata": {
        "id": "UIQAZUTv5bGI"
      }
    },
    {
      "cell_type": "markdown",
      "source": [
        "### 3.2.6 비선형 함수"
      ],
      "metadata": {
        "id": "bYMiRsdWAh7V"
      }
    },
    {
      "cell_type": "markdown",
      "source": [
        "+ 시그모이드 함수와 계단 함수 모두 비선형 함수이다."
      ],
      "metadata": {
        "id": "ByMwdK6qCGkX"
      }
    },
    {
      "cell_type": "markdown",
      "source": [
        "__NOTE__  \n",
        "활성화 함수를 설명할 때 비선형 함수와 선형 함수라는 용어가 자주 등장한다.  \n",
        "출력이 입력의 상수배만큼 변하는 함수를 선형 함수라고 한다.  \n",
        "수식으로는 $f(x) = ax + b$ 이다. ($a,b$ 는 상수)  \n",
        "비선형 함수는 선형이 아닌 함수이다.\n",
        "\n"
      ],
      "metadata": {
        "id": "yo1kVLxvDOTu"
      }
    },
    {
      "cell_type": "markdown",
      "source": [
        "+ 신경망에서는 활성화 함수로 선형 함수를 사용하면 안된다.  \n",
        "선형 함수를 이용하면 신경망의 층을 깊게 하는 의미가 없어지기 때문\n",
        "+ 선형 함수로 층을 아무리 깊게 해도 '은닉층이 없는 네트워크'로 똑같은 기능을 할 수 있다."
      ],
      "metadata": {
        "id": "0Bc95hx2EXAK"
      }
    },
    {
      "cell_type": "markdown",
      "source": [
        "$h(x) = cx $ 를 활성화 함수로 사용한 3층 네트워크를 생각해보자. 이를 식으로 나타내면  \n",
        "$y(x) = h(h(h(x)))$ 이다. 이를 식으로 나타내면\n",
        "$ a = c^3 $인 $ y(x) = ax$ 와 똑같은 식이다.  \n",
        "즉 선형 함수로는 여러 층을 구성할 수 없으므로 비선형 함수를 사용해야 한다.\n"
      ],
      "metadata": {
        "id": "69dVPkJ7E9ya"
      }
    },
    {
      "cell_type": "markdown",
      "source": [
        "### 3.2.7 ReLU 함수"
      ],
      "metadata": {
        "id": "eqgkFe8eFkg-"
      }
    },
    {
      "cell_type": "markdown",
      "source": [
        "+ 시그모이드 함수는 신경망 분야에서 오래전부터 이용해왔으나 최근에는 ReLu 함수를 주로 이용한다.\n",
        "+ ReLU는 입력이 0을 넘으면 그 입력을 그대로 출력하고, 0 이하면 0을 출력하는 함수이다."
      ],
      "metadata": {
        "id": "iPB4foDaGCo5"
      }
    },
    {
      "cell_type": "markdown",
      "source": [
        "<img src='http://drive.google.com/uc?export=view&id=1cqBNP0wZDvLAxtf0QlGE1UMIbN4toA4l' height = 300 /><br>"
      ],
      "metadata": {
        "id": "FOIsD9gAG6Ze"
      }
    },
    {
      "cell_type": "markdown",
      "source": [
        "+ 수식으로는 다음과 같다.  \n",
        "$h(x) =\n",
        "\\begin{cases}\n",
        " \\;(x > 0)\\\\\n",
        "1 \\;(x \\leq 0)\n",
        "\\end{cases}$"
      ],
      "metadata": {
        "id": "p9s48LuzG_KR"
      }
    },
    {
      "cell_type": "markdown",
      "source": [
        "+ 위 식을 구현해보자."
      ],
      "metadata": {
        "id": "ecFEZD_9Hl4y"
      }
    },
    {
      "cell_type": "code",
      "source": [
        "def relu(x):\n",
        "  return np.maximum(0,x)"
      ],
      "metadata": {
        "id": "hSCVLV5r29Nv"
      },
      "execution_count": null,
      "outputs": []
    },
    {
      "cell_type": "markdown",
      "source": [
        "+ maximum 함수는 두 입력 중 큰 값을 선택해 반환하는 함수이다.\n",
        "+ 지금은 시그모이드 함수를 활성화 함수로 사용하지만, 후반부는 주로 ReLU 함수를 사용한다."
      ],
      "metadata": {
        "id": "r_-RWW81HvAB"
      }
    },
    {
      "cell_type": "markdown",
      "source": [
        "## 3.3 다차원 배열의 계산"
      ],
      "metadata": {
        "id": "C9lrUE3DH3Cq"
      }
    },
    {
      "cell_type": "markdown",
      "source": [
        "+ 넘파이의 다차원 배열을 사용하여 신경망을 효율적으로 구현할 수 있다."
      ],
      "metadata": {
        "id": "kvqwzoSuIOyo"
      }
    },
    {
      "cell_type": "markdown",
      "source": [
        "### 3.3.1 다차원 배열"
      ],
      "metadata": {
        "id": "MgQYuwyWIYWF"
      }
    },
    {
      "cell_type": "markdown",
      "source": [
        "+ 넘파이를 사용해서 다차원 배열을 작성해보자."
      ],
      "metadata": {
        "id": "yLiFtCxCIs5c"
      }
    },
    {
      "cell_type": "code",
      "source": [
        "import numpy as np\n",
        "# 1차원 배열\n",
        "A = np.array([1,2,3,4])\n",
        "print(A)\n",
        "print(np.ndim(A))\n",
        "print(A.shape)\n",
        "print(A.shape[0])"
      ],
      "metadata": {
        "colab": {
          "base_uri": "https://localhost:8080/"
        },
        "id": "M4V1FGSwHs-X",
        "outputId": "51187bbd-c1ef-4a54-fd98-c3fb1c690243"
      },
      "execution_count": null,
      "outputs": [
        {
          "output_type": "stream",
          "name": "stdout",
          "text": [
            "[1 2 3 4]\n",
            "1\n",
            "(4,)\n",
            "4\n"
          ]
        }
      ]
    },
    {
      "cell_type": "markdown",
      "source": [
        "+ 배열의 차원 수는 np.ndim() 함수로 알 수 있다.\n",
        "+ 배열의 형상은 shape으로 알 수 있다.\n",
        "+ shape은 튜플을 반환하는 것에 주의하자."
      ],
      "metadata": {
        "id": "365HVqI2JG9K"
      }
    },
    {
      "cell_type": "code",
      "source": [
        "# 2차원 배열\n",
        "B = np.array([[1,2],[3,4],[5,6]])\n",
        "print(B)\n",
        "print(np.ndim(B))\n",
        "print(B.shape)"
      ],
      "metadata": {
        "colab": {
          "base_uri": "https://localhost:8080/"
        },
        "id": "RZi75-ZvI9F5",
        "outputId": "3c6ef09a-96b6-42a7-da0a-c9ca48ed3d82"
      },
      "execution_count": null,
      "outputs": [
        {
          "output_type": "stream",
          "name": "stdout",
          "text": [
            "[[1 2]\n",
            " [3 4]\n",
            " [5 6]]\n",
            "2\n",
            "(3, 2)\n"
          ]
        }
      ]
    },
    {
      "cell_type": "markdown",
      "source": [
        "+ 3×2 배열으로 처음 차원(0차원)에는 원소가 3개, 다음 차원(1차원)에는 원소가 2개 있다는 의미이다.\n",
        "+ 2차원 배열은 행렬이라고 부르고 가로 방향을 행, 세로 방향을 열이라고 한다."
      ],
      "metadata": {
        "id": "zCnmUofdKFpq"
      }
    },
    {
      "cell_type": "markdown",
      "source": [
        "<img src='http://drive.google.com/uc?export=view&id=1b-n_wx2lJ6JA2WclH4Xm06lxsdsYkPR-' height = 200/><br>"
      ],
      "metadata": {
        "id": "PzrcCOG4KzS-"
      }
    },
    {
      "cell_type": "markdown",
      "source": [
        "### 3.3.2 행렬의 곱"
      ],
      "metadata": {
        "id": "wrqjVI51K6P7"
      }
    },
    {
      "cell_type": "markdown",
      "source": [
        "+ 파이썬으로 행렬의 곱을 구현해보자"
      ],
      "metadata": {
        "id": "rtCXL9LwLByL"
      }
    },
    {
      "cell_type": "code",
      "source": [
        "A = np.array([[1,2],[3,4]])\n",
        "print(A.shape)\n",
        "B = np.array([[5,6],[7,8]])\n",
        "print(B.shape)\n",
        "print(np.dot(A,B))"
      ],
      "metadata": {
        "colab": {
          "base_uri": "https://localhost:8080/"
        },
        "id": "K5Yv8CY1z8iX",
        "outputId": "0aeec894-e820-4460-d975-79c34e6ba59c"
      },
      "execution_count": null,
      "outputs": [
        {
          "output_type": "stream",
          "name": "stdout",
          "text": [
            "(2, 2)\n",
            "(2, 2)\n",
            "[[19 22]\n",
            " [43 50]]\n"
          ]
        }
      ]
    },
    {
      "cell_type": "markdown",
      "source": [
        "+ A와 B는 2×2 행렬이며, 두 행렬의 곱은 넘파이 함수 np.dot()으로 계산한다.\n",
        "+ np.dot()은 입력이 1차원 배열이면 벡터를, 2차원 배열이면 행렬 곱을 계산한다.\n",
        "+ np.dot(A,B)와 np.dot(B,A)는 다른 값이 될 수 있다.\n",
        "+ 2×3 행렬과 3×2 행렬의 곱을 구현해보자."
      ],
      "metadata": {
        "id": "oBgQP-2z0ZJU"
      }
    },
    {
      "cell_type": "code",
      "source": [
        "A = np.array([[1,2,3],[4,5,6]])\n",
        "B = np.array([[1,2],[3,4],[5,6]])\n",
        "print(A.shape)\n",
        "print(B.shape)\n",
        "print(np.dot(A,B))"
      ],
      "metadata": {
        "colab": {
          "base_uri": "https://localhost:8080/"
        },
        "id": "dAwKlA4t0LHE",
        "outputId": "de769647-7dcf-4db9-acc3-8c67c3107bd9"
      },
      "execution_count": null,
      "outputs": [
        {
          "output_type": "stream",
          "name": "stdout",
          "text": [
            "(2, 3)\n",
            "(3, 2)\n",
            "[[22 28]\n",
            " [49 64]]\n"
          ]
        }
      ]
    },
    {
      "cell_type": "markdown",
      "source": [
        "+ 행렬의 곱 연산을 할 때는 형상에 주의해야 한다. 형상이 맞지 않으면 행렬의 곱을 계산할 수 없다.\n",
        "+ 2×3 행렬과 2×2 행렬을 곱하면 다음과 같이 오류가 발생한다."
      ],
      "metadata": {
        "id": "GaaGAnyV37pW"
      }
    },
    {
      "cell_type": "code",
      "source": [
        "C = np.array([[1,2],[3,4]])\n",
        "print(C.shape)\n",
        "print(A.shape)\n",
        "np.dot(A,C)"
      ],
      "metadata": {
        "colab": {
          "base_uri": "https://localhost:8080/",
          "height": 288
        },
        "id": "35KQ8ADC3fJ2",
        "outputId": "88f707db-e9aa-4161-8cf7-690b56b3cb69"
      },
      "execution_count": null,
      "outputs": [
        {
          "output_type": "stream",
          "name": "stdout",
          "text": [
            "(2, 2)\n",
            "(2, 3)\n"
          ]
        },
        {
          "output_type": "error",
          "ename": "ValueError",
          "evalue": "ignored",
          "traceback": [
            "\u001b[0;31m---------------------------------------------------------------------------\u001b[0m",
            "\u001b[0;31mValueError\u001b[0m                                Traceback (most recent call last)",
            "\u001b[0;32m<ipython-input-31-6e6ce0db9111>\u001b[0m in \u001b[0;36m<cell line: 4>\u001b[0;34m()\u001b[0m\n\u001b[1;32m      2\u001b[0m \u001b[0mprint\u001b[0m\u001b[0;34m(\u001b[0m\u001b[0mC\u001b[0m\u001b[0;34m.\u001b[0m\u001b[0mshape\u001b[0m\u001b[0;34m)\u001b[0m\u001b[0;34m\u001b[0m\u001b[0;34m\u001b[0m\u001b[0m\n\u001b[1;32m      3\u001b[0m \u001b[0mprint\u001b[0m\u001b[0;34m(\u001b[0m\u001b[0mA\u001b[0m\u001b[0;34m.\u001b[0m\u001b[0mshape\u001b[0m\u001b[0;34m)\u001b[0m\u001b[0;34m\u001b[0m\u001b[0;34m\u001b[0m\u001b[0m\n\u001b[0;32m----> 4\u001b[0;31m \u001b[0mnp\u001b[0m\u001b[0;34m.\u001b[0m\u001b[0mdot\u001b[0m\u001b[0;34m(\u001b[0m\u001b[0mA\u001b[0m\u001b[0;34m,\u001b[0m\u001b[0mC\u001b[0m\u001b[0;34m)\u001b[0m\u001b[0;34m\u001b[0m\u001b[0;34m\u001b[0m\u001b[0m\n\u001b[0m",
            "\u001b[0;32m/usr/local/lib/python3.10/dist-packages/numpy/core/overrides.py\u001b[0m in \u001b[0;36mdot\u001b[0;34m(*args, **kwargs)\u001b[0m\n",
            "\u001b[0;31mValueError\u001b[0m: shapes (2,3) and (2,2) not aligned: 3 (dim 1) != 2 (dim 0)"
          ]
        }
      ]
    },
    {
      "cell_type": "markdown",
      "source": [
        "+ 즉 다차원 배열을 곱하려면 두 행렬의 대응하는 차원의 원소 수를 일치시켜야 한다."
      ],
      "metadata": {
        "id": "l0_maEaU4g1Z"
      }
    },
    {
      "cell_type": "markdown",
      "source": [
        "<img src='http://drive.google.com/uc?export=view&id=19AwmEkPQFnQXFI_zniaMOvEr3NeG670I' /><br>\n",
        "<img src='http://drive.google.com/uc?export=view&id=1jQk6hNCRyn2ql4p0MlgMC86TCzSfAOVf' /><br>\n",
        "+ [그림 3-13] 을 파이썬으로 구현하면 다음과 같다."
      ],
      "metadata": {
        "id": "fKQKXcc24_z2"
      }
    },
    {
      "cell_type": "code",
      "source": [
        "A = np.array([[1,2],[3,4],[5,6]])\n",
        "B = np.array([7,8])\n",
        "print(A.shape)\n",
        "print(B.shape)\n",
        "print(np.dot(A,B))"
      ],
      "metadata": {
        "colab": {
          "base_uri": "https://localhost:8080/"
        },
        "id": "kd_TAAr94brv",
        "outputId": "ea46daf3-a121-4753-e077-dcae3b3cdbca"
      },
      "execution_count": null,
      "outputs": [
        {
          "output_type": "stream",
          "name": "stdout",
          "text": [
            "(3, 2)\n",
            "(2,)\n",
            "[23 53 83]\n"
          ]
        }
      ]
    },
    {
      "cell_type": "markdown",
      "source": [
        "### 3.3.3 신경망에서의 행렬 곱"
      ],
      "metadata": {
        "id": "c7lwmHBN5hxs"
      }
    },
    {
      "cell_type": "markdown",
      "source": [
        "+ 넘파이 행렬을 사용해서 신경망을 구현해보자.\n",
        "+ 아래 신경망은 편향과 활성화 함수를 생략하고 가중치만 갖는다."
      ],
      "metadata": {
        "id": "ZcPU-bTR70Sa"
      }
    },
    {
      "cell_type": "markdown",
      "source": [
        "<img src='http://drive.google.com/uc?export=view&id=1rOpMIN9orix816gUw8gE8B8zH0oBB7HX' /><br>"
      ],
      "metadata": {
        "id": "h5mrSvflxN0Q"
      }
    },
    {
      "cell_type": "markdown",
      "source": [
        "+ 이 구현에서도 $X, W, Y$의 형상을 주의해서 보자.\n",
        "+ $X$와 $W$ 의 대응하는 차원의 원소 수가 같아야 한다"
      ],
      "metadata": {
        "id": "nzDh3SgA78jq"
      }
    },
    {
      "cell_type": "code",
      "source": [
        "X = np.array([1,2])\n",
        "W = np.array([[1,3,5],[2,4,6]])\n",
        "\n",
        "print(X.shape)\n",
        "print(W)\n",
        "print(W.shape)\n",
        "\n",
        "Y = np.dot(X,W)\n",
        "print(Y)"
      ],
      "metadata": {
        "id": "0e4TnzUF5fYC",
        "colab": {
          "base_uri": "https://localhost:8080/"
        },
        "outputId": "15f5d2ff-6201-4fef-a100-692a7e2bce75"
      },
      "execution_count": null,
      "outputs": [
        {
          "output_type": "stream",
          "name": "stdout",
          "text": [
            "(2,)\n",
            "[[1 3 5]\n",
            " [2 4 6]]\n",
            "(2, 3)\n",
            "[ 5 11 17]\n"
          ]
        }
      ]
    },
    {
      "cell_type": "markdown",
      "source": [
        "+ Y의 원소 개수와 상관없이 np.dot 함수를 사용하면 한 번의 연산으로 계산할 수 있다."
      ],
      "metadata": {
        "id": "-D4WEkZT8t-d"
      }
    },
    {
      "cell_type": "markdown",
      "source": [
        "## 3.4 3층 신경망 구현하기"
      ],
      "metadata": {
        "id": "Wh7V6cu19c9h"
      }
    },
    {
      "cell_type": "markdown",
      "source": [
        "+ 3층 신경망에서 수행되는 입력부터 출력까지의 처리(순방향 처리)를 구현해보자."
      ],
      "metadata": {
        "id": "X4TLG-I29x7L"
      }
    },
    {
      "cell_type": "markdown",
      "source": [
        "<img src='http://drive.google.com/uc?export=view&id=1-tgKVUxErusQubHkRXiYsHMVXTh3lenn' height = 200/><br>"
      ],
      "metadata": {
        "id": "WKSd4aXB9icM"
      }
    },
    {
      "cell_type": "markdown",
      "source": [
        "### 3.4.1 표기법 설명"
      ],
      "metadata": {
        "id": "6ZhxTOwH-m1O"
      }
    },
    {
      "cell_type": "markdown",
      "source": [
        "<img src='http://drive.google.com/uc?export=view&id=1kVIjBkfGRaiWCimwrufkzbdKskIPL3Eo' height = 200 /><br>"
      ],
      "metadata": {
        "id": "YjwFH2cxEN_x"
      }
    },
    {
      "cell_type": "markdown",
      "source": [
        "+ 위 그림은 입력층의 뉴런 $x_2$ 에서 다음 층의 뉴런  $a_1^{(1)} $ 으로 향하는 선 위에 가중치를 표시한다.\n",
        "+ 가중치와 은닉층 뉴런의 오른쪽 위에는 '(1)'이 붙어있는데,  \n",
        "이는 1층의 가중치, 1층의 뉴런임을 뜻하는 번호이다.\n",
        "+ 가중치 오른쪽 아래의 두 숫자는 차례로 다음 층 뉴런과 앞 층 뉴런의 인덱스이다.\n",
        "+ $w_{12}^{(1)}$은 앞 층의 2번째 뉴런($x_2$)에서 다음 층의 1번째 뉴런($a_1^{(1)}$)으로 향할 때의 가중치라는 뜻이다.\n",
        "+ 가중치 오른쪽 아래의 인덱스 번호는 '다음 층 번호, 앞 층 번호' 순으로 적는다.\n"
      ],
      "metadata": {
        "id": "IZKnc4FSBIvO"
      }
    },
    {
      "cell_type": "markdown",
      "source": [
        "### 3.4.2 각 층의 신호 전달 구현"
      ],
      "metadata": {
        "id": "kPGqb-OsG0rG"
      }
    },
    {
      "cell_type": "markdown",
      "source": [
        "+ 입력층에서 '1층의 첫 번째 뉴런'으로 가는 신호를 살펴보자."
      ],
      "metadata": {
        "id": "Xg0xabrHG4LX"
      }
    },
    {
      "cell_type": "markdown",
      "source": [
        "<img src='http://drive.google.com/uc?export=view&id=1FbIq8m460lHROcZjSqUYsKoWi4hraUtk' height = 200/><br>"
      ],
      "metadata": {
        "id": "OWZzUgcuHHLR"
      }
    },
    {
      "cell_type": "markdown",
      "source": [
        "+ 편향을 뜻하는 뉴런인 ①이 추가되었다.\n",
        "+ 편향은 앞 층의 편향 뉴런이 하나뿐이므로 오른쪽 아래 인덱스가 하나밖에 없다는 것을 주의하자.\n",
        "+ $a_1^{(1)}$ 을 수식으로 나타내보자."
      ],
      "metadata": {
        "id": "VblKG7SvHN8y"
      }
    },
    {
      "cell_type": "markdown",
      "source": [
        "$a_1^{(1)} = w_{11}^{(1)}x_1+w_{12}^{(1)}x_2+b_1^{(1)}$"
      ],
      "metadata": {
        "id": "MGqI59J4H5Ae"
      }
    },
    {
      "cell_type": "markdown",
      "source": [
        "+ 행렬의 곱을 이용하면 1층의 '가중치 부분'을 간소화할 수 있다."
      ],
      "metadata": {
        "id": "NRn9u4TgIJLT"
      }
    },
    {
      "cell_type": "markdown",
      "source": [
        "$A^{(1)} = XW^{(1)}+B^{(1)}$"
      ],
      "metadata": {
        "id": "BlR8nqIgIOmD"
      }
    },
    {
      "cell_type": "markdown",
      "source": [
        "+ 행렬 $ A^{(1)},X, B^{(1)}, W^{(1)}$ 은 다음과 같다."
      ],
      "metadata": {
        "id": "c-ywyC6XL8_W"
      }
    },
    {
      "cell_type": "markdown",
      "source": [
        "$A^{(1)} = (a_1^{(1)} \\ a_2^{(1)} \\ a_3^{(1)}), \\ X = (x_1, x_2),\\ B^{(1)} = (b_1^{(1)} \\ b_2^{(1)} \\ b_3^{(1)})$ <br/><br/>\n",
        "$W^{(1)} =\n",
        "\\begin{pmatrix} w_{11}^{(1)} & w_{21}^{(1)} &w_{31}^{(1)} \\\\ w_{12}^{(1)} & w_{22}^{(1)}& w_{32}^{(1)} \\end{pmatrix} $"
      ],
      "metadata": {
        "id": "igyup3WFJSA-"
      }
    },
    {
      "cell_type": "markdown",
      "source": [
        "+ 넘파이의 다차원 배열을 사용해서 위 식을 구현해보자."
      ],
      "metadata": {
        "id": "u8q5I5Q5MdMV"
      }
    },
    {
      "cell_type": "code",
      "source": [
        "X = np.array([1.0, 0.5])\n",
        "W1 = np.array([[0.1, 0.3, 0.5], [0.2, 0.4, 0.6]])\n",
        "B1 = np.array([0.1, 0.2, 0.3])\n",
        "A1 = np.dot(X, W1) + B1\n",
        "\n",
        "print(W1.shape)\n",
        "print(X.shape)\n",
        "print(B1.shape)"
      ],
      "metadata": {
        "colab": {
          "base_uri": "https://localhost:8080/"
        },
        "id": "4xmD4g0W8npf",
        "outputId": "854b9519-e9d6-46dd-f4d3-5fe02ae73c6a"
      },
      "execution_count": null,
      "outputs": [
        {
          "output_type": "stream",
          "name": "stdout",
          "text": [
            "(2, 3)\n",
            "(2,)\n",
            "(3,)\n"
          ]
        }
      ]
    },
    {
      "cell_type": "markdown",
      "source": [
        "+ 1층의 활성화 함수에서의 처리를 살펴보자"
      ],
      "metadata": {
        "id": "-LIO1vSKOJuV"
      }
    },
    {
      "cell_type": "markdown",
      "source": [
        "<img src='http://drive.google.com/uc?export=view&id=1OzglqFYY1uBfHfkslgAcQljkHRUKzFii' height = 300/><br>"
      ],
      "metadata": {
        "id": "RZcKBzVNPGEW"
      }
    },
    {
      "cell_type": "markdown",
      "source": [
        "+ 은닉층에서의 가중치 합을 $a$로 표기하고 활성화 함수 $h()$로 변환된 신호를 $z$로 표기한다.\n",
        "+ 활성화 함수로 시그모이드 함수를 사용하여 구현해보자."
      ],
      "metadata": {
        "id": "iir6owRrPdWW"
      }
    },
    {
      "cell_type": "code",
      "source": [
        "Z1 = sigmoid(A1)\n",
        "\n",
        "print(A1)\n",
        "print(Z1)"
      ],
      "metadata": {
        "colab": {
          "base_uri": "https://localhost:8080/"
        },
        "id": "HyDSmDZjM4nK",
        "outputId": "7d79217d-3c67-46a2-ef4a-8e848c895810"
      },
      "execution_count": null,
      "outputs": [
        {
          "output_type": "stream",
          "name": "stdout",
          "text": [
            "[0.3 0.7 1.1]\n",
            "[0.57444252 0.66818777 0.75026011]\n"
          ]
        }
      ]
    },
    {
      "cell_type": "markdown",
      "source": [
        "+ 이어서 1층에서 2층으로 가는 과정과 구현을 살펴보자."
      ],
      "metadata": {
        "id": "ycA_EP5QTIkl"
      }
    },
    {
      "cell_type": "markdown",
      "source": [
        "<img src='http://drive.google.com/uc?export=view&id=1XLu2wX6mh32-vDO-XuuXJdE2xPRzwyHP' height = 300/><br>"
      ],
      "metadata": {
        "id": "73qLVI4DTQrG"
      }
    },
    {
      "cell_type": "code",
      "source": [
        "W2 = np.array([[0.1, 0.4], [0.2, 0.5], [0.3, 0.6]])\n",
        "B2 = np.array([0.1, 0.2])\n",
        "\n",
        "print(Z1.shape)\n",
        "print(W2.shape)\n",
        "print(B2.shape)\n",
        "\n",
        "A2 = np.dot(Z1, W2) + B2\n",
        "Z2 = sigmoid(A2)"
      ],
      "metadata": {
        "colab": {
          "base_uri": "https://localhost:8080/"
        },
        "id": "2PbrtlH8RfoQ",
        "outputId": "0b0512e6-bb64-463c-e513-d1a5b058b415"
      },
      "execution_count": null,
      "outputs": [
        {
          "output_type": "stream",
          "name": "stdout",
          "text": [
            "(3,)\n",
            "(3, 2)\n",
            "(2,)\n"
          ]
        }
      ]
    },
    {
      "cell_type": "markdown",
      "source": [
        "+ 마지막으로 2층에서 출력층으로의 신호 전달을 살펴보자.\n",
        "+ 출력층의 구현은 앞선 과정과 비슷하지만 활성화 함수는 지금까지의 은닉층과 다르다."
      ],
      "metadata": {
        "id": "8jXHDW-6T35e"
      }
    },
    {
      "cell_type": "markdown",
      "source": [
        "<img src='http://drive.google.com/uc?export=view&id=1g9slf6kxxKfyKOO7_0h0sSy5lBlD0BDG' height = 300 /><br>"
      ],
      "metadata": {
        "id": "4hqOffwbUuWM"
      }
    },
    {
      "cell_type": "code",
      "source": [
        "def identity_function(x):\n",
        "  return x\n",
        "\n",
        "W3 = np.array([[0.1, 0.3], [0.2, 0.4]])\n",
        "B3 = np.array([0.1, 0.2])\n",
        "\n",
        "A3 = np.dot(Z2, W3) + B3\n",
        "Y = identity_function(A3)"
      ],
      "metadata": {
        "id": "V3yJvWgdTwri"
      },
      "execution_count": null,
      "outputs": []
    },
    {
      "cell_type": "markdown",
      "source": [
        "+ 항등 함수인 identity_function()을 정의하고, 출력층의 활성화 함수로 사용한다."
      ],
      "metadata": {
        "id": "h93RRWe-VU5E"
      }
    },
    {
      "cell_type": "markdown",
      "source": [
        "__NOTE__  \n",
        "출력층의 활성화 함수는 풀고자 하는 문제의 성질에 맞게 정한다.  \n",
        "예를들어 회귀에는 항등 함수를, 2클래스 분류에는 시그모이드 함수를,  \n",
        "다중 클래스 분류에는 소프트맥스 함수를 사용하는 것이 일반적이다."
      ],
      "metadata": {
        "id": "-EoRwJ74VfKQ"
      }
    },
    {
      "cell_type": "markdown",
      "source": [
        "### 3.4.3 구현 정리"
      ],
      "metadata": {
        "id": "VdeNhFs3VyHY"
      }
    },
    {
      "cell_type": "markdown",
      "source": [
        "지금까지 3층 신경망에 대한 내용이다. 지금까지의 구현을 정리해보자."
      ],
      "metadata": {
        "id": "dAU9JMBKV3MI"
      }
    },
    {
      "cell_type": "code",
      "source": [
        "def init_network():\n",
        "  network = {}\n",
        "  network['W1'] = np.array([[0.1, 0.3, 0.5], [0.2, 0.4, 0.6]])\n",
        "  network['b1'] = np.array([0.1, 0.2, 0.3])\n",
        "  network['W2'] = np.array([[0.1, 0.4], [0.2, 0.5],[0.3, 0.6]])\n",
        "  network['b2'] = np.array([0.1, 0.2])\n",
        "  network['W3'] = np.array([[0.1, 0.3], [0.2, 0.4]])\n",
        "  network['b3'] = np.array([0.1, 0.2])\n",
        "\n",
        "  return network\n",
        "\n",
        "def forward(network, x):\n",
        "  W1, W2, W3 = network['W1'], network['W2'], network['W3']\n",
        "  b1, b2, b3 = network['b1'], network['b2'], network['b3']\n",
        "\n",
        "  a1 = np.dot(x, W1) + b1\n",
        "  z1 = sigmoid(a1)\n",
        "  a2 = np.dot(z1,W2) + b2\n",
        "  z2 = sigmoid(a2)\n",
        "  a3 = np.dot(z2, W3) + b3\n",
        "  y = identity_function(a3)\n",
        "\n",
        "  return y\n",
        "\n",
        "network = init_network()\n",
        "x = np.array([1.0, 0.5])\n",
        "y = forward(network, x)\n",
        "print(y)"
      ],
      "metadata": {
        "colab": {
          "base_uri": "https://localhost:8080/"
        },
        "id": "tGbXhQqlVBVb",
        "outputId": "50246a6b-2dc8-4589-fb9c-ec2feb38650e"
      },
      "execution_count": null,
      "outputs": [
        {
          "output_type": "stream",
          "name": "stdout",
          "text": [
            "[0.31682708 0.69627909]\n"
          ]
        }
      ]
    },
    {
      "cell_type": "markdown",
      "source": [
        "+ init_network() 함수는 가중치와 편향을 초기화하고 network에 저장한다.\n",
        "+ network에는 각 층에 필요한 매개변수를 저장한다.\n",
        "+ forward() 함수는 입력 신호를 출력으로 변환하는 과정을 구현한다."
      ],
      "metadata": {
        "id": "5Y0pxEmSelXl"
      }
    },
    {
      "cell_type": "markdown",
      "source": [
        "## 3.5 출력층 설계하기"
      ],
      "metadata": {
        "id": "Nwjl0ZoSe6jp"
      }
    },
    {
      "cell_type": "markdown",
      "source": [
        "+ 신경망은 분류와 회귀 모두에 이용할 수 있는데  \n",
        "어떤 문제냐에 따라 출력층에서 사용하는 활성화 함수가 달라진다.\n",
        "+ 일반적으로 회귀에는 항등 함수를, 분류에는 소프트맥스 함수를 사용한다."
      ],
      "metadata": {
        "id": "O1vO9Jf3e_YP"
      }
    },
    {
      "cell_type": "markdown",
      "source": [
        "__NOTE__  \n",
        "기계학습 문제는 __분류__와 __회귀__로 나뉜다.  \n",
        "분류 : 데이터가 어느 클래스에 속하는지의 문제(ex 인물의 성별 분류)  \n",
        "회귀 : 입력 데이터에서 연속적인 수치를 예측하는 문제(ex 인물의 몸무게 예측)"
      ],
      "metadata": {
        "id": "RC2p6cBifNWf"
      }
    },
    {
      "cell_type": "markdown",
      "source": [
        "### 3.5.1 항등 함수와 소프트맥스 함수 구현하기"
      ],
      "metadata": {
        "id": "XPLrwMhx0DY9"
      }
    },
    {
      "cell_type": "markdown",
      "source": [
        "+ 항등 함수는 입력을 그대로 출력한다.\n",
        "+ 신경망 그림으로의 항등 함수의 처리는 다음과 같다."
      ],
      "metadata": {
        "id": "uyADFYPD0I6E"
      }
    },
    {
      "cell_type": "markdown",
      "source": [
        "<img src='http://drive.google.com/uc?export=view&id=1LUbOmpApWQ2uxKpHfEqWXCsfQ40G3Iwd' height = 300 /><br>"
      ],
      "metadata": {
        "id": "5S7NF2G-0W8h"
      }
    },
    {
      "cell_type": "markdown",
      "source": [
        "+ 분류에서 사용하는 소프트맥스 함수의 식은 다음과 같다."
      ],
      "metadata": {
        "id": "WOwW8k5O9rM9"
      }
    },
    {
      "cell_type": "markdown",
      "source": [
        "$ \\large\n",
        "y_k = \\frac{\\exp (a_k)}{\\sum_{i=1}^n \\exp (a_i)} $"
      ],
      "metadata": {
        "id": "twXEbYp09yEj"
      }
    },
    {
      "cell_type": "markdown",
      "source": [
        "+ n은 출력층의 뉴런 수, $ \\ y_k$는 k번째 출력을 뜻한다.\n",
        "+ 분자는 입력 신호 $a_k$의 지수 함수, 분모는 모든 입력 신호의 지수 함수의 합으로 구성된다.\n",
        "+ 소프트맥스의 출력은 모든 입력 신호로부터 화살표를 받습니다."
      ],
      "metadata": {
        "id": "OFGWAjnrMPap"
      }
    },
    {
      "cell_type": "markdown",
      "source": [
        "<img src='http://drive.google.com/uc?export=view&id=1PtCeLwp5teuwQWLyS11YSA4wvb5GH2UO' height = 300 /><br>"
      ],
      "metadata": {
        "id": "jcONxl1kMl15"
      }
    },
    {
      "cell_type": "markdown",
      "source": [
        "+ 소프트맥스 함수를 구현해보자."
      ],
      "metadata": {
        "id": "oafgmdiqPa4x"
      }
    },
    {
      "cell_type": "code",
      "source": [
        "a = np.array([0.3, 2.9, 4.0])\n",
        "exp_a = np.exp(a)\n",
        "print(exp_a)\n",
        "\n",
        "sum_exp_a = np.sum(exp_a)\n",
        "print(sum_exp_a)\n",
        "\n",
        "y = exp_a / sum_exp_a\n",
        "print(y)"
      ],
      "metadata": {
        "colab": {
          "base_uri": "https://localhost:8080/"
        },
        "id": "f3NaKQ-8Pc3d",
        "outputId": "f746c45d-0a63-4839-a0be-fa0f804f8d13"
      },
      "execution_count": null,
      "outputs": [
        {
          "output_type": "stream",
          "name": "stdout",
          "text": [
            "[ 1.34985881 18.17414537 54.59815003]\n",
            "74.1221542101633\n",
            "[0.01821127 0.24519181 0.73659691]\n"
          ]
        }
      ]
    },
    {
      "cell_type": "markdown",
      "source": [
        "+ 위 코드를 함수로 정의하여, 앞으로 필요할 때 사용할 수 있도록 한다."
      ],
      "metadata": {
        "id": "KBgyI9LLQDre"
      }
    },
    {
      "cell_type": "code",
      "source": [
        "def softmax(a):\n",
        "  exp_a = np.exp(a)\n",
        "  sum_exp_a = np.sum(exp_a)\n",
        "  y = exp_a / sum_exp_a\n",
        "\n",
        "  return y"
      ],
      "metadata": {
        "id": "LP01zx1eQHkR"
      },
      "execution_count": null,
      "outputs": []
    },
    {
      "cell_type": "markdown",
      "source": [
        "### 3.5.2 소프트맥스 함수 구현 시 주의점"
      ],
      "metadata": {
        "id": "lqKcVF-4MEZQ"
      }
    },
    {
      "cell_type": "markdown",
      "source": [
        "+ 앞서 구현한 softmax() 함수의 코드는 컴퓨터로 계산할 때 오버플로 문제가 있다.\n",
        "+ $e^{10}$ 은 20,000이 넘고 $e^{100}$ 은 40자리 이상의 큰 수가 되고, $e^{1000}$ 은 inf가 된다.\n",
        "+ 즉 지수 함수는 쉽게 아주 큰 값을 반환하기 때문에 결과 수치가 불안정해진다.\n",
        "+ 소프트맥스 수식을 개선하여 문제를 해결해보자."
      ],
      "metadata": {
        "id": "YEU-fUZlQdgr"
      }
    },
    {
      "cell_type": "markdown",
      "source": [
        "<img src='http://drive.google.com/uc?export=view&id=1HKtDEpwQOVTDj8vFih5Eat7LANOQCg2b' height = 300/><br>"
      ],
      "metadata": {
        "id": "VWF-v46sRR4d"
      }
    },
    {
      "cell_type": "markdown",
      "source": [
        "+ 위 식에서 임의의 정수 $C$ 를 분자, 분모에 곱하고 마지막에 $logC$ 를 $C'$ 으로 치환했다.\n",
        "+ 즉 지수 함수를 계산할 때 임의의 정수를 더해도 결과는 바뀌지 않는다.\n",
        "+ 오버플로를 막을 목적으로 입력 신호 중 최댓값을 $C'$에 대입한다."
      ],
      "metadata": {
        "id": "UyJ4bEVCRz_P"
      }
    },
    {
      "cell_type": "code",
      "source": [
        "a = np.array([1010,1000,990])\n",
        "print(np.exp(a) / np.sum(np.exp(a)))\n",
        "\n",
        "c = np.max(a)\n",
        "print(a - c)\n",
        "\n",
        "print(np.exp(a - c) / np.sum(np.exp(a - c)))"
      ],
      "metadata": {
        "colab": {
          "base_uri": "https://localhost:8080/"
        },
        "id": "_9aZrLr4QXXO",
        "outputId": "61701e20-4ded-41e1-e534-86cfcf50654c"
      },
      "execution_count": null,
      "outputs": [
        {
          "output_type": "stream",
          "name": "stdout",
          "text": [
            "[nan nan nan]\n",
            "[  0 -10 -20]\n",
            "[9.99954600e-01 4.53978686e-05 2.06106005e-09]\n"
          ]
        }
      ]
    },
    {
      "cell_type": "markdown",
      "source": [
        "+ 위 예에서 알 수 있는 그냥 계산하면 nan 이 출력되지만  \n",
        "입력 신호 중 최댓값을 뺴주면 올바르게 계산할 수 있다.\n",
        "+ 개선된 소프트맥스 함수를 구현해보자."
      ],
      "metadata": {
        "id": "5MD1p7cDT0x2"
      }
    },
    {
      "cell_type": "code",
      "source": [
        "def softmax(a):\n",
        "  c = np.max(a)\n",
        "  exp_a = np.exp(a - c)\n",
        "  sum_exp_a = np.sum(exp_a)\n",
        "  y = exp_a / sum_exp_a\n",
        "\n",
        "  return y"
      ],
      "metadata": {
        "id": "rOyfkxc4Ty6S"
      },
      "execution_count": null,
      "outputs": []
    },
    {
      "cell_type": "markdown",
      "source": [
        "### 3.5.3 소프트맥스 함수의 특징"
      ],
      "metadata": {
        "id": "KdnKFkMCUNnV"
      }
    },
    {
      "cell_type": "markdown",
      "source": [
        "+ softmax() 함수를 사용하면 신경망의 출력을 다음과 같이 계산할 수 있다."
      ],
      "metadata": {
        "id": "qOs7PLJWUSyw"
      }
    },
    {
      "cell_type": "code",
      "source": [
        "a = np.array([0.3, 2.9, 4.0])\n",
        "y = softmax(a)\n",
        "print(y)\n",
        "print(np.sum(y))"
      ],
      "metadata": {
        "colab": {
          "base_uri": "https://localhost:8080/"
        },
        "id": "rScfeIKVUM-3",
        "outputId": "8b3f3e82-5a6e-4e1e-b7eb-76a9f6cfa08d"
      },
      "execution_count": null,
      "outputs": [
        {
          "output_type": "stream",
          "name": "stdout",
          "text": [
            "[0.01821127 0.24519181 0.73659691]\n",
            "1.0\n"
          ]
        }
      ]
    },
    {
      "cell_type": "markdown",
      "source": [
        "+ 소프트맥스 함수의 출력은 0과 1 사이의 실수이다.\n",
        "+ 소프트맥스 함수 출력의 총합은 1이다.\n",
        "+ 이 성질로 소프트맥스 함수의 출력을 확률로 해석할 수 있다."
      ],
      "metadata": {
        "id": "mBWfv1jTUrLI"
      }
    },
    {
      "cell_type": "markdown",
      "source": [
        "+ 위 코드에서 y[0]의 확률은 0.018, y[1]의 확률은 0.245, y[2]의 확률은 0.737로 해석할 수 있다.  \n",
        "+ 즉 '2번째 원소의 확률이 가장 높으니 답은 2번째 클래스다' 라고 할 수 있다.\n",
        "+ $ y = \\exp (x) $ 는 단조 증가 함수이므로 원소의 대소 관계는 변하지 않는다.\n",
        "+ 따라서 $x$ 에서의 대소가 $y$ 에서도 대소 관계가 이어진다.\n"
      ],
      "metadata": {
        "id": "8N22o7PVVYwM"
      }
    },
    {
      "cell_type": "markdown",
      "source": [
        "__NOTE__  \n",
        "신경망을 이용한 분류에서는 일반적으로 가장 큰 출력을 내는 뉴런에 해당하는 클래스로만 인식한다.  \n",
        "소프트맥스 함수를 적용해서 가장 큰 출력의 뉴런 위치는 달라지지 않는다.  \n",
        "결과적으로 신경망으로 분류할 때는 출력층의 소프트맥스 함수를 생략해도 된다."
      ],
      "metadata": {
        "id": "9F7xESqAW6lk"
      }
    },
    {
      "cell_type": "markdown",
      "source": [
        "__NOTE__  \n",
        "기계학습의 문제 풀이는 __학습__과 __추론__ 두 단계를 거쳐 이뤄진다.  \n",
        "학습 단계에서 모델을 학습하고, 추론 단계에서 학습한 모델로 미지의 데이터에 대해 추론을 수행한다.  \n",
        "신경망을 학습할 때 출력층에서 소프트맥스 함수를 사용하고,  \n",
        "추론 단계에서는 출력층의 소프트맥스 함수를 생략하는 것이 일반적이다."
      ],
      "metadata": {
        "id": "mAOq-yRBXPKh"
      }
    },
    {
      "cell_type": "markdown",
      "source": [
        "### 3.5.4 출력층의 뉴런 수 정하기"
      ],
      "metadata": {
        "id": "1jVRGHTsXrLu"
      }
    },
    {
      "cell_type": "markdown",
      "source": [
        "+ 출력층의 뉴런 수는 풀려는 문제에 맞게 적절히 정해야한다.  \n",
        "일반적으로 분류하고 싶은 클래스 수로 설정한다.\n",
        "+ 예를 들어 입력 이미지를 0~9 중 하나로 분류하는 문제라면 출력층의 뉴런을 10개로 설정한다."
      ],
      "metadata": {
        "id": "fjQ8xb3cXw48"
      }
    },
    {
      "cell_type": "markdown",
      "source": [
        "<img src='http://drive.google.com/uc?export=view&id=1G8aBs3QY3uqg66nqECd0dcHuZ0hZKkAL' height = 300 /><br>"
      ],
      "metadata": {
        "id": "FyVTS0NZYDVG"
      }
    },
    {
      "cell_type": "markdown",
      "source": [
        "+ 위 예에서 출력층 뉴런은 차례로 0~9에 대응하며  \n",
        "뉴런의 회색 농도가 해당 뉴런의 출력 값의 크기를 의미한다.\n",
        "+ 색이 가장 짙은 $y_2$ 뉴런이 가장 큰 값을 출력한다.  \n",
        "신경망이 선택한 클래스는 $y_2$, 즉 입력 이미지를 숫자 2로 판단했음을 의미한다."
      ],
      "metadata": {
        "id": "PSGwsEPLYd1L"
      }
    },
    {
      "cell_type": "markdown",
      "source": [
        "## 3.6 손글씨 숫자 인식"
      ],
      "metadata": {
        "id": "lMCnBXlLY6MW"
      }
    },
    {
      "cell_type": "markdown",
      "source": [
        "+ 앞서 배운 신경망의 구조를 손글씨 숫자 분류에 적용해보자.\n",
        "+ 이미 학습된 매개변수를 사용하여 학습 과정은 생략하고, 추론 과정만 구현한다.\n",
        "+ 이 추론 과정을 신경망의 순전파라고도 한다."
      ],
      "metadata": {
        "id": "IQ16BmMpZUoz"
      }
    },
    {
      "cell_type": "markdown",
      "source": [
        "__NOTE__  \n",
        "기계학습과 마찬가지로 신경망도 두 단계를 거처 문제를 해결한다.  \n",
        "훈련 데이터를 사용하여 매개변수를 학습하고, 학습한 매개변수를 사용하여 입력 데이터를 분류한다."
      ],
      "metadata": {
        "id": "vEY-pymYZlmi"
      }
    },
    {
      "cell_type": "markdown",
      "source": [
        "### 3.6.1 MNIST 데이터셋"
      ],
      "metadata": {
        "id": "O6IVo5QZZ-mP"
      }
    },
    {
      "cell_type": "markdown",
      "source": [
        "+ MNIST 데이터셋은 손글씨 숫자 이미지 집합으로, 기계학습 분야에서 아주 유명한 데이터이다.\n",
        "+ 간단한 실험부터 논문으로 발표되는 연구까지 다양한 곳에서 이용되고 있다.\n",
        "+ MNIST 데이터셋은 0~9 까지의 숫자 이미지로 구성된다.\n",
        "+ 훈련 이미지가 60,000장, 시험 이미지가 10,000장 준비되어 있다.\n",
        "+ 훈련 이미지를 사용하여 모델을 학습하고,  \n",
        "학습한 모델로 시험 이미지들을 얼마나 정확하게 분류하는지 평한다."
      ],
      "metadata": {
        "id": "o3bba_CwaGks"
      }
    },
    {
      "cell_type": "markdown",
      "source": [
        "<img src='http://drive.google.com/uc?export=view&id=16XFW36-gPTRXK7m2I_JQ2ooKThyUh_7P' height = 100 /><br>"
      ],
      "metadata": {
        "id": "37um0c6va3iV"
      }
    },
    {
      "cell_type": "markdown",
      "source": [
        "+ MNIST 이미지 데이터는 28×28 크기의 회색조 이미지이며, 각 픽셀은 0~255 값을 가진다.\n",
        "+ 각 이미지에는 '7', '2', '1' 과 같이 그 이미지가 실제 의미하는 숫자가 레이블로 붙어있다.\n",
        "+ MNIST 데이터셋으로 실습해보자."
      ],
      "metadata": {
        "id": "6zxX-nqGDDXn"
      }
    },
    {
      "cell_type": "markdown",
      "source": [
        "https://github.com/oreilly-japan/deep-learning-from-scratch  \n",
        "1. 이 링크에 들어가서 녹색 code에서 Download ZIP을 내려받습니다\n",
        "2. 다운받은 파일을 압축 해제 합니다.\n",
        "3. 압축 해제 한 후 deep-learning-from-scratch-master 폴더를 구글 드라이브에 업로드 합니다."
      ],
      "metadata": {
        "id": "nNAsGSw0DkX_"
      }
    },
    {
      "cell_type": "code",
      "source": [
        "from google.colab import drive\n",
        "drive.mount('/content/drive')"
      ],
      "metadata": {
        "colab": {
          "base_uri": "https://localhost:8080/"
        },
        "id": "6qeLDeaIsg0i",
        "outputId": "5a907faa-5704-4c2d-ee2d-906eb30764e9"
      },
      "execution_count": null,
      "outputs": [
        {
          "output_type": "stream",
          "name": "stdout",
          "text": [
            "Mounted at /content/drive\n"
          ]
        }
      ]
    },
    {
      "cell_type": "code",
      "source": [
        "import sys, os\n",
        "sys.path.append('/content/drive/MyDrive/deep-learning-from-scratch-master/') # 부모 디렉터리의 파일을 가져올 수 있도록 설정\n",
        "from dataset.mnist import load_mnist\n",
        "\n",
        "(x_train, t_train), (x_test, t_test) = \\\n",
        "  load_mnist(flatten = True, normalize = False)\n",
        "\n",
        "# 각 데이터의 형상 출력\n",
        "print(x_train.shape)\n",
        "print(t_train.shape)\n",
        "print(x_test.shape)\n",
        "print(t_test.shape)"
      ],
      "metadata": {
        "id": "kR_Y2cDwUoRm",
        "colab": {
          "base_uri": "https://localhost:8080/"
        },
        "outputId": "f987852c-55fe-4426-b78a-2a76882087da"
      },
      "execution_count": null,
      "outputs": [
        {
          "output_type": "stream",
          "name": "stdout",
          "text": [
            "(60000, 784)\n",
            "(60000,)\n",
            "(10000, 784)\n",
            "(10000,)\n"
          ]
        }
      ]
    },
    {
      "cell_type": "markdown",
      "source": [
        "+ load_mnist 함수는 읽은 MNIST 데이터를  \n",
        "(훈련 이미지, 훈련 레이블), (시험 이미지, 시험 레이블) 형식으로 반환한다.\n",
        "+ 인수로는 normalize, flatten, one_hot_label 세 가지를 설정할 수 있다. (모두 bool 값)"
      ],
      "metadata": {
        "id": "XMqbFF4KTw3Q"
      }
    },
    {
      "cell_type": "markdown",
      "source": [
        "+ normalize는 입력 이미지의 픽셀 값을 0.0 ~ 1.0 사이의 값으로 정규화할 지 정한다.  \n",
        "False로 설정하면 입력 이미지의 픽셀은 그대로 0~255 값을 유지한다.\n",
        "+ flatten은 입력 이미지를 1차원 배열로 만들지 정한다.  \n",
        "False로 설정하면 입력 이미지를 1×28×28 의 3차원 배열로.  \n",
        "True로 설정하면 784개 원소로 이뤄진 1차원 배열로 저장한다.\n",
        "+ one_hot_label은 레이블을 원-핫 인코딩 형태로 저장할지를 정한다.\n",
        "+ 원-핫 인코딩이란, 정답을 뜻하는 원소만 1이고 나머지는 모두 0인 배열이다.\n",
        "+ False 이면'7', '2' 같은 숫자 형태로 저장하고, True 일 때는 원-핫 인코딩하여 저장한다,"
      ],
      "metadata": {
        "id": "l-U0iCVXlhWa"
      }
    },
    {
      "cell_type": "markdown",
      "source": [
        "__코렙 환경이 아닌 window 환경에서 데이터 불러오는 방법__  \n",
        "https://github.com/oreilly-japan/deep-learning-from-scratch  \n",
        "1. 이 링크에 들어가서 녹색 code에서 Download ZIP을 내려받습니다\n",
        "2. 다운받은 파일을 압축 해제 합니다.\n",
        "3. 압축 해제한 폴더의 주소를 복사하여 아래 sys.path.append()에 ()사이에 넣어줍니다.\n",
        "```\n",
        "ex)\n",
        "import sys, os\n",
        "sys.path.append('C:/Users/송준호/Downloads/deep-learning-from-scratch-master')\n",
        "from dataset.mnist import load_mnist\n",
        "```\n",
        "앞으로 나올 코드에서 sys.path.append(~~) 물결 부분을 압축 해제한 폴더의 주소를 입력해서 불러오면 됩니다."
      ],
      "metadata": {
        "id": "VImR5HQGudDi"
      }
    },
    {
      "cell_type": "markdown",
      "source": [
        "__NOTE__  \n",
        "파이썬에는 프로그램 실행 주엥 특정 객체를 파일로 저장하는 pickle 이라는 기능이 있다.  \n",
        "저장해둔 pickle 파일을 로드하면 실행 당시의 객체를 즉시 본원할 수 있다.  \n",
        "MNIST 데이터셋을 읽는 load_mnist() 함수에서도 pickle을 이용한다."
      ],
      "metadata": {
        "id": "oidClpckl5Aa"
      }
    },
    {
      "cell_type": "code",
      "source": [
        "import sys\n",
        "sys.path.append('/content/drive/MyDrive/deep-learning-from-scratch-master/')\n",
        "import numpy as np\n",
        "from dataset.mnist import load_mnist\n",
        "from PIL import Image\n",
        "\n",
        "def img_show(img):\n",
        "  pil_img = Image.fromarray(np.uint8(img))\n",
        "  pil_img.show()\n",
        "\n",
        "(x_train, t_train), (x_test, t_test) = \\\n",
        "  load_mnist(flatten = True, normalize = False)\n",
        "\n",
        "img = x_train[0]\n",
        "label = x_train[0]\n",
        "print(label)"
      ],
      "metadata": {
        "id": "1dI5UXSqNR44",
        "colab": {
          "base_uri": "https://localhost:8080/"
        },
        "outputId": "c86b21f6-bb60-4ab7-d018-b3997dfe75fb"
      },
      "execution_count": null,
      "outputs": [
        {
          "output_type": "stream",
          "name": "stdout",
          "text": [
            "[  0   0   0   0   0   0   0   0   0   0   0   0   0   0   0   0   0   0\n",
            "   0   0   0   0   0   0   0   0   0   0   0   0   0   0   0   0   0   0\n",
            "   0   0   0   0   0   0   0   0   0   0   0   0   0   0   0   0   0   0\n",
            "   0   0   0   0   0   0   0   0   0   0   0   0   0   0   0   0   0   0\n",
            "   0   0   0   0   0   0   0   0   0   0   0   0   0   0   0   0   0   0\n",
            "   0   0   0   0   0   0   0   0   0   0   0   0   0   0   0   0   0   0\n",
            "   0   0   0   0   0   0   0   0   0   0   0   0   0   0   0   0   0   0\n",
            "   0   0   0   0   0   0   0   0   0   0   0   0   0   0   0   0   0   0\n",
            "   0   0   0   0   0   0   0   0   3  18  18  18 126 136 175  26 166 255\n",
            " 247 127   0   0   0   0   0   0   0   0   0   0   0   0  30  36  94 154\n",
            " 170 253 253 253 253 253 225 172 253 242 195  64   0   0   0   0   0   0\n",
            "   0   0   0   0   0  49 238 253 253 253 253 253 253 253 253 251  93  82\n",
            "  82  56  39   0   0   0   0   0   0   0   0   0   0   0   0  18 219 253\n",
            " 253 253 253 253 198 182 247 241   0   0   0   0   0   0   0   0   0   0\n",
            "   0   0   0   0   0   0   0   0  80 156 107 253 253 205  11   0  43 154\n",
            "   0   0   0   0   0   0   0   0   0   0   0   0   0   0   0   0   0   0\n",
            "   0  14   1 154 253  90   0   0   0   0   0   0   0   0   0   0   0   0\n",
            "   0   0   0   0   0   0   0   0   0   0   0   0   0 139 253 190   2   0\n",
            "   0   0   0   0   0   0   0   0   0   0   0   0   0   0   0   0   0   0\n",
            "   0   0   0   0   0  11 190 253  70   0   0   0   0   0   0   0   0   0\n",
            "   0   0   0   0   0   0   0   0   0   0   0   0   0   0   0   0  35 241\n",
            " 225 160 108   1   0   0   0   0   0   0   0   0   0   0   0   0   0   0\n",
            "   0   0   0   0   0   0   0   0   0  81 240 253 253 119  25   0   0   0\n",
            "   0   0   0   0   0   0   0   0   0   0   0   0   0   0   0   0   0   0\n",
            "   0   0  45 186 253 253 150  27   0   0   0   0   0   0   0   0   0   0\n",
            "   0   0   0   0   0   0   0   0   0   0   0   0   0  16  93 252 253 187\n",
            "   0   0   0   0   0   0   0   0   0   0   0   0   0   0   0   0   0   0\n",
            "   0   0   0   0   0   0   0 249 253 249  64   0   0   0   0   0   0   0\n",
            "   0   0   0   0   0   0   0   0   0   0   0   0   0   0  46 130 183 253\n",
            " 253 207   2   0   0   0   0   0   0   0   0   0   0   0   0   0   0   0\n",
            "   0   0   0   0  39 148 229 253 253 253 250 182   0   0   0   0   0   0\n",
            "   0   0   0   0   0   0   0   0   0   0   0   0  24 114 221 253 253 253\n",
            " 253 201  78   0   0   0   0   0   0   0   0   0   0   0   0   0   0   0\n",
            "   0   0  23  66 213 253 253 253 253 198  81   2   0   0   0   0   0   0\n",
            "   0   0   0   0   0   0   0   0   0   0  18 171 219 253 253 253 253 195\n",
            "  80   9   0   0   0   0   0   0   0   0   0   0   0   0   0   0   0   0\n",
            "  55 172 226 253 253 253 253 244 133  11   0   0   0   0   0   0   0   0\n",
            "   0   0   0   0   0   0   0   0   0   0 136 253 253 253 212 135 132  16\n",
            "   0   0   0   0   0   0   0   0   0   0   0   0   0   0   0   0   0   0\n",
            "   0   0   0   0   0   0   0   0   0   0   0   0   0   0   0   0   0   0\n",
            "   0   0   0   0   0   0   0   0   0   0   0   0   0   0   0   0   0   0\n",
            "   0   0   0   0   0   0   0   0   0   0   0   0   0   0   0   0   0   0\n",
            "   0   0   0   0   0   0   0   0   0   0   0   0   0   0   0   0   0   0\n",
            "   0   0   0   0   0   0   0   0   0   0]\n"
          ]
        }
      ]
    },
    {
      "cell_type": "code",
      "source": [
        "print(img.shape)\n",
        "img = img.reshape(28,28)\n",
        "print(img.shape)"
      ],
      "metadata": {
        "colab": {
          "base_uri": "https://localhost:8080/"
        },
        "id": "SBjBjbSrSgrF",
        "outputId": "ae06df3f-9a22-4ebe-86ab-8bf70e1266bc"
      },
      "execution_count": null,
      "outputs": [
        {
          "output_type": "stream",
          "name": "stdout",
          "text": [
            "(784,)\n",
            "(28, 28)\n"
          ]
        }
      ]
    },
    {
      "cell_type": "code",
      "source": [
        "x_train.shape"
      ],
      "metadata": {
        "colab": {
          "base_uri": "https://localhost:8080/"
        },
        "id": "j7U9QR9mqQ8a",
        "outputId": "d98f6dcc-36b5-4228-bb22-bb039deee80c"
      },
      "execution_count": null,
      "outputs": [
        {
          "output_type": "execute_result",
          "data": {
            "text/plain": [
              "(60000, 784)"
            ]
          },
          "metadata": {},
          "execution_count": 48
        }
      ]
    },
    {
      "cell_type": "code",
      "source": [
        "img_show(img)"
      ],
      "metadata": {
        "colab": {
          "base_uri": "https://localhost:8080/",
          "height": 45
        },
        "id": "sjLgFKm9UYUL",
        "outputId": "598ca397-57ad-4ac7-f9d4-2d6b13d98591"
      },
      "execution_count": null,
      "outputs": [
        {
          "output_type": "display_data",
          "data": {
            "text/plain": [
              "<PIL.Image.Image image mode=L size=28x28 at 0x7F4539B1B0A0>"
            ],
            "image/png": "[encoded data removed]"
          },
          "metadata": {}
        }
      ]
    },
    {
      "cell_type": "markdown",
      "source": [
        "+ 주의 사항으로, flatten = True로 읽은 이미지는 1차원 넘파이 배열로 저장되어 있다는 것이다.\n",
        "+ 따라서 이미지를 표시할 때는 원래 형상인 28×28 크기로 다시 변형해야 한다.\n",
        "+ reshape() 메서드로 배열을 원래의 형상으로 바꾸고  \n",
        "Image.fromarray()메서드로 저장된 이미지를 PIL용 객체로 변환한다."
      ],
      "metadata": {
        "id": "1pxbgpPaVyBh"
      }
    },
    {
      "cell_type": "markdown",
      "source": [
        "### 3.6.2 신경망의 추론 처리"
      ],
      "metadata": {
        "id": "0rtn3BOIVx5b"
      }
    },
    {
      "cell_type": "markdown",
      "source": [
        "+ MNIST 데이터셋으로 추론을 수행하는 신경망을 구현해보자.\n",
        "+ 신경망의 입력층 뉴런을 784개, 출력층 뉴런을 10개로 구성한다.\n",
        "+ 은닉층은 두 개로, 첫 은닉층에는 50개 뉴런을, 두 번째 은닉층에는 100개의 뉴런을 배치한다."
      ],
      "metadata": {
        "id": "7ZGYPIMwVxxk"
      }
    },
    {
      "cell_type": "markdown",
      "source": [
        "__NOTE__  \n",
        "입력층 뉴런이 784개인 이유는 이미지 크기가 28×28 = 784 이기 때문이고,  \n",
        "출력층 뉴런이 10개인 이유는 이 문제가 0~9의 숫자를 구분하는 문제이기 때문이다.  \n",
        "은닉층의 뉴런 수는 임의로 정한 값이다."
      ],
      "metadata": {
        "id": "mGwGxw-vVxjO"
      }
    },
    {
      "cell_type": "code",
      "source": [
        "import pickle\n",
        "\n",
        "def get_data():\n",
        "  (x_train, t_train), (x_test, t_test) = \\\n",
        "  load_mnist(flatten = True, normalize = False)\n",
        "  return x_test, t_test\n",
        "\n",
        "def init_network():\n",
        "  with open('/content/drive/MyDrive/deep-learning-from-scratch-master/ch03/sample_weight.pkl','rb') as f:\n",
        "    # ch03 폴더에 sample_weight.pkl 파일을 불러오는 경로를 넣는다.\n",
        "    network = pickle.load(f)\n",
        "\n",
        "  return network\n",
        "\n",
        "def predict(network, x):\n",
        "  W1, W2, W3 = network['W1'], network['W2'], network['W3']\n",
        "  b1, b2, b3 = network['b1'], network['b2'], network['b3']\n",
        "\n",
        "  a1 = np.dot(x, W1) + b1\n",
        "  z1 = sigmoid(a1)\n",
        "  a2 = np.dot(z1, W2) + b2\n",
        "  z2 = sigmoid(a2)\n",
        "  a3 = np.dot(z2, W3) + b3\n",
        "  y = softmax(a3)\n",
        "\n",
        "  return y"
      ],
      "metadata": {
        "id": "0cK__Nmbrcch"
      },
      "execution_count": null,
      "outputs": []
    },
    {
      "cell_type": "markdown",
      "source": [
        "+ init_network() 에서 pickle 파일인 sample_weight.pkl에 저장된 '학습된 가중치 매개변수'를 읽는다.  \n",
        "이 파일에는 가중치와 편향 매개변수가 딕셔너리 변수로 저장되어 있다.\n",
        "+ 세 함수를 사용하여 신경망에 의한 추론과 그 정확도를 평가해보자."
      ],
      "metadata": {
        "id": "eBUQ_uWGsT_U"
      }
    },
    {
      "cell_type": "code",
      "source": [
        "x, t = get_data()\n",
        "network = init_network()\n",
        "\n",
        "accuracy_cnt = 0\n",
        "for i in range(len(x)):\n",
        "  y = predict(network,x[i])\n",
        "  p = np.argmax(y)\n",
        "  if p == t[i]:\n",
        "    accuracy_cnt += 1\n",
        "\n",
        "print(\"Accuracy:\" + str(float(accuracy_cnt) / len(x)))"
      ],
      "metadata": {
        "colab": {
          "base_uri": "https://localhost:8080/"
        },
        "id": "GZGI1OVrs3WK",
        "outputId": "9f03aa8a-0b99-497b-843c-8c6be5e41b98"
      },
      "execution_count": null,
      "outputs": [
        {
          "output_type": "stream",
          "name": "stdout",
          "text": [
            "Accuracy:0.9207\n"
          ]
        }
      ]
    },
    {
      "cell_type": "markdown",
      "source": [
        "+ 먼저 MNIST 데이터셋을 얻고 네트워크를 생성한다.\n",
        "+ for 문을 돌며 x에 저장된 이미지 데이터를 1장씩 꺼내 predict() 함수로 분류한다.\n",
        "+ predict() 함수는 각 레이블의 확률을 넘파이 배열로 반환한다.\n",
        "+ np.argmax() 함수로 이 배열에서 가장 값이 큰 원소의 인덱스를 구한다. 이것이 예측 결과이다.\n",
        "+ 신경망이 예측한 답변과 정답 레이블을 비교하여 맞힌 숫자(accuracy_cnt)를 세고,  \n",
        "이를 전체 이미지 숫자로 나눠 정확도를 구한다."
      ],
      "metadata": {
        "id": "1LkVgyNevSkV"
      }
    },
    {
      "cell_type": "markdown",
      "source": [
        "+ 정확도가 0.9207 으로 올바르게 분류한 비율이 92.07% 라는 뜻이다.\n",
        "+ normalize = True로 설정했는데 이는 0~255 범위인 각 픽셀의 값을 0.0 ~ 1.0 범위로 변환한다.\n",
        "+ 이 과정을 정규화라고 하고, 신경망 입력 데이터에 특정 변환을 하는것을 전처리라고 한다."
      ],
      "metadata": {
        "id": "THWXEoqlvuiX"
      }
    },
    {
      "cell_type": "markdown",
      "source": [
        "## 3.6.3 배치 처리"
      ],
      "metadata": {
        "id": "MtYvIjBewSbX"
      }
    },
    {
      "cell_type": "markdown",
      "source": [
        "+ 입력 데이터와 가중치 매개변수의 형상에 주의해서 앞선 구현을 살펴보자."
      ],
      "metadata": {
        "id": "d3QHlK_4wYyk"
      }
    },
    {
      "cell_type": "code",
      "source": [
        "x, _ = get_data()\n",
        "network = init_network()\n",
        "W1, W2, W3 = network['W1'], network['W2'], network['W3']\n",
        "\n",
        "print(x.shape)\n",
        "print(x[0].shape)\n",
        "print(W1.shape)\n",
        "print(W2.shape)\n",
        "print(W3.shape)"
      ],
      "metadata": {
        "colab": {
          "base_uri": "https://localhost:8080/"
        },
        "id": "wNODqNAbwfhW",
        "outputId": "ac933489-a698-430c-87f5-cc9f1699a4c2"
      },
      "execution_count": null,
      "outputs": [
        {
          "output_type": "stream",
          "name": "stdout",
          "text": [
            "(10000, 784)\n",
            "(784,)\n",
            "(784, 50)\n",
            "(50, 100)\n",
            "(100, 10)\n"
          ]
        }
      ]
    },
    {
      "cell_type": "markdown",
      "source": [
        "+ 다차원 배열의 대응하는 차원의 원소 수가 일치함을 확인할 수 있다.\n",
        "+ 최종 결과로 원소가 10개인 1차원 배열 y가 출력되는 점도 확인해보자."
      ],
      "metadata": {
        "id": "Hx4waW5dysGs"
      }
    },
    {
      "cell_type": "markdown",
      "source": [
        "<img src='http://drive.google.com/uc?export=view&id=1RHm5pAMY4G5Tm4NBWl7VirPU7oA8V8yl' width = 400/><br>"
      ],
      "metadata": {
        "id": "SpnLdssxy0nX"
      }
    },
    {
      "cell_type": "markdown",
      "source": [
        "+ 전체적으로 보면 원소 784개로 구성된 1차원 배열이 입력되어 마지막에는 원소가 10개인 1차원 배열이 출력되는 흐름이다.\n",
        "+ 이는 이미지 데이터 1장 입력했을 때의 처리인데, 여러 장을 한꺼번에 입력하는 경우를 생각해보자.\n",
        "+ 이미지 100개를 묶어 predict() 함수에 한 번에 넘겨보자.\n",
        "+ x의 형상을 100×784로 바꿔서 100장 분량의 데이터를 하나의 입력 데이터로 표현한다."
      ],
      "metadata": {
        "id": "sttSUOwIzluO"
      }
    },
    {
      "cell_type": "markdown",
      "source": [
        "<img src='http://drive.google.com/uc?export=view&id=1_a182d_Liie3YwpKIh8XDnpYrFeri5UU' width = 400/><br>"
      ],
      "metadata": {
        "id": "-InEa7HHzVX4"
      }
    },
    {
      "cell_type": "markdown",
      "source": [
        "+ 입력 데이터의 형상은 100×784, 출력 데이터의 형상은 100×10이 된다.\n",
        "+ 이는 100장 분량의 입력 데이터의 결과가 한 번에 출력됨을 의미한다.\n",
        "+ x[0], y[0]에는 0번째 이미지와 추론결과, x[1], y[1]에는 1번째 이미지와 추론결과가 저장되는 식이다.\n",
        "+ 이처럼 하나로 묶은 입력 데이터를 배치라고 한다.\n"
      ],
      "metadata": {
        "id": "J3fNB3HB0e6t"
      }
    },
    {
      "cell_type": "markdown",
      "source": [
        "__NOTE__  \n",
        "배치 처리는 컴퓨터로 계산할 때 큰 이점을 준다.  \n",
        "이미지 1장당 처리 시간을 대폭 줄여주는데 그 이유로는 크게 두 가지가 있다.  \n",
        "하나는 수치 계산 라이브러리 대부분이 큰 배열을 효율적으로 처리하도록 최적화되어 있기 때문이다.  \n",
        "다른 하나는 커다란 신경망에서는 데이터 전송이 병목으로 작용하는 경우가 있는데,  \n",
        "배치 처리를 함으로써 버스에 주는 부하를 줄인다."
      ],
      "metadata": {
        "id": "vGDCUPE003oA"
      }
    },
    {
      "cell_type": "code",
      "source": [
        "x, t = get_data()\n",
        "network = init_network()\n",
        "\n",
        "batch_size = 100 # 배치 크기\n",
        "accuracy_cnt = 0\n",
        "\n",
        "for i in range(0, len(x), batch_size):\n",
        "  x_batch = x[i:i+batch_size]\n",
        "  y_batch = predict(network, x_batch)\n",
        "  p = np.argmax(y_batch, axis = 1)\n",
        "  accuracy_cnt += np.sum(p == t[i:i+batch_size])\n",
        "\n",
        "print(\"Accuracy:\" + str(float(accuracy_cnt) / len(x)))"
      ],
      "metadata": {
        "colab": {
          "base_uri": "https://localhost:8080/"
        },
        "id": "DKMq0TzY1uX2",
        "outputId": "a42189e1-6eb1-4394-c2aa-d31e94aa094c"
      },
      "execution_count": null,
      "outputs": [
        {
          "output_type": "stream",
          "name": "stdout",
          "text": [
            "Accuracy:0.9207\n"
          ]
        }
      ]
    },
    {
      "cell_type": "markdown",
      "source": [
        "앞선 코드와 바뀐 부분을 확인해보자."
      ],
      "metadata": {
        "id": "7nDl1LQA2Vw_"
      }
    },
    {
      "cell_type": "markdown",
      "source": [
        "+ range() 함수가 반환하는 i를 바탕으로 x[i:i+batch_size]에서 입력 데이터를 묶는다.\n",
        "+ batch_size가 100이므로 x[0:100], x[100,200]... 와 같이 100장씩 묶어 꺼내게 된다.\n",
        "+ 아래 예시로 이해해보자."
      ],
      "metadata": {
        "id": "dhIlWfMR2b8e"
      }
    },
    {
      "cell_type": "code",
      "source": [
        "print(list(range(0,10)))\n",
        "print(list(range(0,10,3)))"
      ],
      "metadata": {
        "colab": {
          "base_uri": "https://localhost:8080/"
        },
        "id": "DuF9j78l3tuq",
        "outputId": "892d6e6c-da0a-486f-987d-c59b91cd1193"
      },
      "execution_count": null,
      "outputs": [
        {
          "output_type": "stream",
          "name": "stdout",
          "text": [
            "[0, 1, 2, 3, 4, 5, 6, 7, 8, 9]\n",
            "[0, 3, 6, 9]\n"
          ]
        }
      ]
    },
    {
      "cell_type": "markdown",
      "source": [
        "+ argmax()는 최댓값의 인덱스를 가져오는데, axis = 1 인수가 추가되었다.\n",
        "+ 이는 100×10의 배열 중 1번째 차원을 구성하는 각 원소에서 최댓값의 인덱스를 찾도록 한 것이다.\n",
        "+ 아래 예시로 이해해보자."
      ],
      "metadata": {
        "id": "FaVRwk1e3mez"
      }
    },
    {
      "cell_type": "code",
      "source": [
        "x = np.array([[1,8,1],[3,1,6],[2,5,3],[8,1,1]])\n",
        "y = np.argmax(x, axis = 1)\n",
        "print(y)"
      ],
      "metadata": {
        "colab": {
          "base_uri": "https://localhost:8080/"
        },
        "id": "r1SheLl12TlL",
        "outputId": "19c5cb55-2176-40fd-bf86-7d80ab5e160c"
      },
      "execution_count": null,
      "outputs": [
        {
          "output_type": "stream",
          "name": "stdout",
          "text": [
            "[1 2 1 0]\n"
          ]
        }
      ]
    },
    {
      "cell_type": "markdown",
      "source": [
        "+ 마지막으로 배치 단위로 분류한 결과를 실제 답과 비교한다.\n",
        "+ == 연산자를 사용하여 넘파이 배열끼리 비비교하여 True / False로 구성된 bool 배열을 만들고 결과 배열에서 True가 몇 개인지 센다.\n",
        "+ 아래 예시로 이해해보자."
      ],
      "metadata": {
        "id": "cpH-SGhB4C1K"
      }
    },
    {
      "cell_type": "code",
      "source": [
        "y = np.array([1,2,1,0])\n",
        "t = np.array([1,2,0,0])\n",
        "print(y == t)\n",
        "print(np.sum(y == t))"
      ],
      "metadata": {
        "colab": {
          "base_uri": "https://localhost:8080/"
        },
        "id": "gSpKaAYr4VhF",
        "outputId": "30677212-89db-40ba-a565-0b6177b21afd"
      },
      "execution_count": null,
      "outputs": [
        {
          "output_type": "stream",
          "name": "stdout",
          "text": [
            "[ True  True False  True]\n",
            "3\n"
          ]
        }
      ]
    },
    {
      "cell_type": "markdown",
      "source": [
        "+ 이와 같이 데이터를 배치로 처리함으로써 효율적이로 빠르게 처리할 수 있다."
      ],
      "metadata": {
        "id": "wNgUE2OD4ib4"
      }
    },
    {
      "cell_type": "markdown",
      "source": [
        "## 3.7 정리"
      ],
      "metadata": {
        "id": "SfDYeziBVFrs"
      }
    },
    {
      "cell_type": "markdown",
      "source": [
        "+ 신경망에서는 활성화 함수로 시그모이드 함수와 ReLU 함수 같이 매끄러운 함수를 이용한다.\n",
        "+ 넘파이의 다차원 배열로 신경망을 효율적으로 구현할 수 있다.\n",
        "+ 기계학습 문제는 크게 회귀와 분류로 나눌 수 있다.\n",
        "+ 출력층의 활성화 함수로 회귀에서는 주로 항등 함수를, 분류에서는 주로 소프트맥스 함수를 이용한다.\n",
        "+ 분류에서는 출력층의 뉴런 수를 분류하려는 클래스 수와 같게 설정한다.\n",
        "+ 입력 데이터를 묶은 것을 배치라 하며, 추런 처리를 배치 단위로 진행하면 빠르게 결과를 얻을 수 있다."
      ],
      "metadata": {
        "id": "yGmog1HAVJkM"
      }
    }
  ]
}